{
 "cells": [
  {
   "cell_type": "code",
   "execution_count": 1,
   "metadata": {},
   "outputs": [],
   "source": [
    "import h5py\n",
    "import numpy as np"
   ]
  },
  {
   "cell_type": "code",
   "execution_count": null,
   "metadata": {},
   "outputs": [],
   "source": []
  },
  {
   "cell_type": "code",
   "execution_count": null,
   "metadata": {},
   "outputs": [],
   "source": []
  },
  {
   "cell_type": "code",
   "execution_count": 2,
   "metadata": {
    "scrolled": false
   },
   "outputs": [],
   "source": [
    "file_name_odd = '/store/hep/users/yewzzang/JSNS2/com_data/r001846/ME_cut_odd_Rho_1.4_ZL_1.0_noDIN/'\n",
    "file_name_even = '/store/hep/users/yewzzang/JSNS2/com_data/r001846/ME_cut_even_Rho_1.4_ZL_1.0_noDIN/'\n",
    "f = open('/users/yewzzang/r1563r1592_NonDINLists/r1846_ME.txt','r')\n",
    "\n",
    "line_num = 1\n",
    "line = f.readline()\n",
    "while line:\n",
    "    i = int(line.split(' ')[0])\n",
    "    trigg = int(line.split(' ')[-1][:-1])\n",
    "    line=f.readline()\n",
    "    line_num+=1\n",
    "    \n",
    "\n",
    "    if (i%2 ==1):\n",
    "\n",
    "        file_name = file_name_odd\n",
    "    else:\n",
    "        file_name = file_name_even\n",
    "\n",
    "    file_numb = 'combined.debug.r001846.f'+str(f'{i:05}')+'_ME.h5'\n",
    "\n",
    "    file = h5py.File(file_name+file_numb, 'r')\n",
    "\n",
    "\n",
    "\n",
    "    out_run = np.delete(np.array(file['events']['run']),np.where(np.array(file['events']['trigID'])==trigg))\n",
    "    out_subrun = np.delete(np.array(file['events']['subrun']),np.where(np.array(file['events']['trigID'])==trigg))\n",
    "\n",
    "    out_waveform = np.delete(np.array(file['events']['waveform']),np.where(np.array(file['events']['trigID'])==trigg),axis=0)\n",
    "    out_dT = np.delete(np.array(file['events']['dT']),np.where(np.array(file['events']['trigID'])==trigg))\n",
    "    out_dVertex = np.delete(np.array(file['events']['dVertex']),np.where(np.array(file['events']['trigID'])==trigg))\n",
    "    out_nVertex = np.delete(np.array(file['events']['nVertex']),np.where(np.array(file['events']['trigID'])==trigg))\n",
    "    out_vertexX = np.delete(np.array(file['events']['vertexX']),np.where(np.array(file['events']['trigID'])==trigg))\n",
    "    out_vertexY = np.delete(np.array(file['events']['vertexY']),np.where(np.array(file['events']['trigID'])==trigg))\n",
    "    out_vertexZ = np.delete(np.array(file['events']['vertexZ']),np.where(np.array(file['events']['trigID'])==trigg))\n",
    "\n",
    "    out_pCharge = np.delete(np.array(file['events']['pCharge']),np.where(np.array(file['events']['trigID'])==trigg),axis=0)\n",
    "    out_minvalue = np.delete(np.array(file['events']['minvalue']),np.where(np.array(file['events']['trigID'])==trigg))\n",
    "    out_trigID = np.delete(np.array(file['events']['trigID']),np.where(np.array(file['events']['trigID'])==trigg))\n",
    "\n",
    "    file.close()\n",
    "    \n",
    "    if (len(out_trigID) ==0):\n",
    "        print(i)\n",
    "        continue\n",
    "    \n",
    "    kwargs = {'dtype':'f4', 'compression':'lzf'}\n",
    "    with h5py.File(file_name+file_numb, 'w', libver='latest', swmr=True) as fout:\n",
    "\n",
    "    #     with h5py.File(output_name, 'w', libver='latest', swmr=True) as fout:\n",
    "        m = fout.create_group('info')\n",
    "        m.create_dataset('shape', data=[96, 248], dtype='i4')\n",
    "\n",
    "        g = fout.create_group('events')\n",
    "        g.create_dataset('run', data=out_run, dtype='i4')\n",
    "        g.create_dataset('subrun', data=out_subrun, dtype='i4')\n",
    "        g.create_dataset('trigID', data=out_trigID, dtype='i4')\n",
    "        g.create_dataset('waveform', data=out_waveform, chunks=(1, 96, 248), **kwargs)\n",
    "        g.create_dataset('dT', data=out_dT, dtype='f4')\n",
    "        g.create_dataset('dVertex', data=out_dVertex, dtype='f4')\n",
    "\n",
    "        g.create_dataset('nVertex', data=out_nVertex, dtype='i4')\n",
    "        g.create_dataset('vertexX', data=out_vertexX, **kwargs)\n",
    "        g.create_dataset('vertexY', data=out_vertexY, **kwargs)\n",
    "        g.create_dataset('vertexZ', data=out_vertexZ, **kwargs)\n",
    "        g.create_dataset('minvalue', data=out_minvalue, **kwargs)\n",
    "        g.create_dataset('pCharge', data=out_pCharge, **kwargs)             \n",
    "\n",
    "\n",
    "    file = h5py.File(file_name+file_numb, 'r')\n",
    "\n",
    "\n",
    "    file['events']['run']\n",
    "f.close()"
   ]
  },
  {
   "cell_type": "code",
   "execution_count": null,
   "metadata": {},
   "outputs": [],
   "source": []
  },
  {
   "cell_type": "code",
   "execution_count": null,
   "metadata": {},
   "outputs": [],
   "source": []
  }
 ],
 "metadata": {
  "kernelspec": {
   "display_name": "Python 3",
   "language": "python",
   "name": "python3"
  },
  "language_info": {
   "codemirror_mode": {
    "name": "ipython",
    "version": 3
   },
   "file_extension": ".py",
   "mimetype": "text/x-python",
   "name": "python",
   "nbconvert_exporter": "python",
   "pygments_lexer": "ipython3",
   "version": "3.7.9"
  }
 },
 "nbformat": 4,
 "nbformat_minor": 4
}
