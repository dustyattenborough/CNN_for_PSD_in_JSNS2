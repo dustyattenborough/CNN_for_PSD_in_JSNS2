{
 "cells": [
  {
   "cell_type": "code",
   "execution_count": 1,
   "metadata": {},
   "outputs": [],
   "source": [
    "import h5py\n",
    "import os\n",
    "import numpy as np\n",
    "import glob"
   ]
  },
  {
   "cell_type": "code",
   "execution_count": 2,
   "metadata": {},
   "outputs": [],
   "source": [
    "# 1825 1834 1846 1563 1592\n",
    "run_num = 'r001846_v3_ch2'\n",
    "Rho = 1.4\n",
    "vtz = 1.0\n",
    "minv = 400\n",
    "dv = 1\n",
    "path1 = '/users/yewzzang/work/JSNS2/NuML/PSD/com_data/' + run_num +'/FN_cut_Rho_' + str(Rho)+ '_ZL_'+str(vtz) + '_min_'+str(minv) + '_dv_'+str(dv)+'/*'\n",
    "list_name1 = glob.glob(path1)\n",
    "FN_total = [file for file in list_name1 if file.endswith(\"h5\")]\n",
    "\n",
    "path2 = '/users/yewzzang/work/JSNS2/NuML/PSD/com_data/' + run_num +'/ME_cut_Rho_' + str(Rho)+ '_ZL_'+str(vtz) + '_min_'+str(minv) + '_dv_'+str(dv)+'/*'\n",
    "list_name2 = glob.glob(path2)\n",
    "ME_total = [file for file in list_name2 if file.endswith(\"h5\")]\n",
    "\n",
    "path3 = '/users/yewzzang/work/JSNS2/NuML/PSD/com_data/' + run_num +'/FN_even_Rho_' + str(Rho)+ '_ZL_'+str(vtz) + '_min_'+str(minv) + '_dv_'+str(dv)+'/*'\n",
    "list_name3 = glob.glob(path3)\n",
    "FN_even = [file for file in list_name3 if file.endswith(\"h5\")]\n",
    "\n",
    "path4 = '/users/yewzzang/work/JSNS2/NuML/PSD/com_data/' + run_num +'/FN_odd_Rho_' + str(Rho)+ '_ZL_'+str(vtz) + '_min_'+str(minv) + '_dv_'+str(dv)+'/*'\n",
    "list_name4 = glob.glob(path4)\n",
    "FN_odd = [file for file in list_name4 if file.endswith(\"h5\")]\n",
    "\n",
    "path5 = '/users/yewzzang/work/JSNS2/NuML/PSD/com_data/' + run_num +'/ME_even_Rho_' + str(Rho)+ '_ZL_'+str(vtz) +'_min_'+str(minv) + '_dv_'+str(dv)+'/*'\n",
    "list_name5 = glob.glob(path5)\n",
    "ME_even = [file for file in list_name5 if file.endswith(\"h5\")]\n",
    "\n",
    "path6 = '/users/yewzzang/work/JSNS2/NuML/PSD/com_data/' + run_num +'/ME_odd_Rho_' + str(Rho)+ '_ZL_'+str(vtz) + '_min_'+str(minv) + '_dv_'+str(dv)+'/*'\n",
    "list_name6 = glob.glob(path6)\n",
    "ME_odd = [file for file in list_name6 if file.endswith(\"h5\")]\n",
    "\n"
   ]
  },
  {
   "cell_type": "code",
   "execution_count": 3,
   "metadata": {},
   "outputs": [],
   "source": [
    "FN_t_num = 0\n",
    "for i in range(len(FN_total)):\n",
    "    ff = h5py.File(FN_total[i],'r')\n",
    "    \n",
    "    nnn = len(ff['events']['dT'])\n",
    "    FN_t_num  += nnn\n",
    "\n",
    "ME_t_num = 0\n",
    "for i in range(len(ME_total)):\n",
    "    ff = h5py.File(ME_total[i],'r')\n",
    "    \n",
    "    nnn = len(ff['events']['dT'])\n",
    "    ME_t_num  += nnn\n",
    "\n",
    "FN_even_num = 0\n",
    "for i in range(len(FN_even)):\n",
    "    ff = h5py.File(FN_even[i],'r')\n",
    "    \n",
    "    nnn = len(ff['events']['dT'])\n",
    "    FN_even_num  += nnn\n",
    "\n",
    "\n",
    "ME_even_num = 0\n",
    "for i in range(len(ME_even)):\n",
    "    ff = h5py.File(ME_even[i],'r')\n",
    "    \n",
    "    nnn = len(ff['events']['dT'])\n",
    "    ME_even_num  += nnn\n",
    "FN_odd_num = 0\n",
    "for i in range(len(FN_odd)):\n",
    "    ff = h5py.File(FN_odd[i],'r')\n",
    "    \n",
    "    nnn = len(ff['events']['dT'])\n",
    "    FN_odd_num  += nnn\n",
    "\n",
    "\n",
    "\n",
    "ME_odd_num = 0\n",
    "for i in range(len(ME_odd)):\n",
    "    ff = h5py.File(ME_odd[i],'r')\n",
    "    \n",
    "    nnn = len(ff['events']['dT'])\n",
    "    ME_odd_num  += nnn\n",
    "\n",
    "            "
   ]
  },
  {
   "cell_type": "code",
   "execution_count": 4,
   "metadata": {},
   "outputs": [],
   "source": [
    "import sys"
   ]
  },
  {
   "cell_type": "code",
   "execution_count": 5,
   "metadata": {},
   "outputs": [
    {
     "name": "stdout",
     "output_type": "stream",
     "text": [
      "run1846ch2 1.4/1.0|   FN    |   ME    |\n",
      "------------------------------------\n",
      "total # data   |     472 |    2068 |\n",
      "------------------------------------\n",
      "even  # data   |     225 |    1023 |\n",
      "------------------------------------\n",
      "odd   # data   |     247 |    1045 |\n"
     ]
    }
   ],
   "source": [
    "\n",
    "print('run1846ch2 ' + str(Rho) + '/'+ str(vtz)+'|   FN    |   ME    |\\n'\n",
    "'------------------------------------\\n'\n",
    "'total # data   |','%7d'%FN_t_num,'|', '%7d'%ME_t_num,'|\\n'\n",
    "'------------------------------------\\n'\n",
    "'even  # data   |','%7d'%FN_even_num,'|', '%7d'%ME_even_num,'|\\n'\n",
    "'------------------------------------\\n'\n",
    "'odd   # data   |','%7d'%FN_odd_num,'|', '%7d'%ME_odd_num,'|')\n"
   ]
  },
  {
   "cell_type": "code",
   "execution_count": 6,
   "metadata": {},
   "outputs": [],
   "source": [
    "# f = open('r001563_v3.txt','w')\n",
    "# print('R= ' + str(Rho) + '/Z= '+ str(vtz)+'  |   FN    |   ME    |\\n'\n",
    "# '------------------------------------\\n'\n",
    "# 'total # data   |','%7d'%FN_t_num,'|', '%7d'%ME_t_num,'|\\n'\n",
    "# '------------------------------------\\n'\n",
    "# 'even  # data   |','%7d'%FN_even_num,'|', '%7d'%ME_even_num,'|\\n'\n",
    "# '------------------------------------\\n'\n",
    "# 'odd   # data   |','%7d'%FN_odd_num,'|', '%7d'%ME_odd_num,'|',file=f)\n",
    "# f.close()"
   ]
  }
 ],
 "metadata": {
  "kernelspec": {
   "display_name": "Python 3",
   "language": "python",
   "name": "python3"
  },
  "language_info": {
   "codemirror_mode": {
    "name": "ipython",
    "version": 3
   },
   "file_extension": ".py",
   "mimetype": "text/x-python",
   "name": "python",
   "nbconvert_exporter": "python",
   "pygments_lexer": "ipython3",
   "version": "3.7.9"
  }
 },
 "nbformat": 4,
 "nbformat_minor": 4
}
