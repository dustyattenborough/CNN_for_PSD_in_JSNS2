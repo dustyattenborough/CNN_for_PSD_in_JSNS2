{
 "cells": [
  {
   "cell_type": "code",
   "execution_count": 9,
   "metadata": {},
   "outputs": [],
   "source": [
    "import pandas as pd"
   ]
  },
  {
   "cell_type": "code",
   "execution_count": null,
   "metadata": {},
   "outputs": [],
   "source": []
  },
  {
   "cell_type": "code",
   "execution_count": 3,
   "metadata": {},
   "outputs": [],
   "source": [
    "result_file = '/users/yewzzang/work/JSNS2_22y/result/data20220505_noDIN_eval_1809_model_r01592_R14_Z10_nolog/data20220505_noDIN_eval_1809_model_r01592_R14_Z10_nolog.csv'"
   ]
  },
  {
   "cell_type": "code",
   "execution_count": 7,
   "metadata": {},
   "outputs": [],
   "source": [
    "name_file = '/users/yewzzang/work/JSNS2_22y/result/data20220505_noDIN_eval_1809_model_r01592_R14_Z10_nolog/sampleInfo_eval.csv'"
   ]
  },
  {
   "cell_type": "code",
   "execution_count": 11,
   "metadata": {},
   "outputs": [],
   "source": [
    "nf = pd.read_csv(name_file,'r')"
   ]
  },
  {
   "cell_type": "code",
   "execution_count": 14,
   "metadata": {},
   "outputs": [
    {
     "data": {
      "text/html": [
       "<div>\n",
       "<style scoped>\n",
       "    .dataframe tbody tr th:only-of-type {\n",
       "        vertical-align: middle;\n",
       "    }\n",
       "\n",
       "    .dataframe tbody tr th {\n",
       "        vertical-align: top;\n",
       "    }\n",
       "\n",
       "    .dataframe thead th {\n",
       "        text-align: right;\n",
       "    }\n",
       "</style>\n",
       "<table border=\"1\" class=\"dataframe\">\n",
       "  <thead>\n",
       "    <tr style=\"text-align: right;\">\n",
       "      <th></th>\n",
       "      <th></th>\n",
       "      <th>,p</th>\n",
       "      <th>ocName,fileName,weight,label,fileIdx,nEvents</th>\n",
       "    </tr>\n",
       "  </thead>\n",
       "  <tbody>\n",
       "    <tr>\n",
       "      <th>0,ME,/use</th>\n",
       "      <th>s/wonsang1995/wo</th>\n",
       "      <td>k/JSNS2_ws/select_JSHDIR/</td>\n",
       "      <td>001809/ME/build.f00124.h5,1.0,1,0,5.0</td>\n",
       "    </tr>\n",
       "    <tr>\n",
       "      <th>1,ME,/use</th>\n",
       "      <th>s/wonsang1995/wo</th>\n",
       "      <td>k/JSNS2_ws/select_JSHDIR/</td>\n",
       "      <td>001809/ME/build.f00060.h5,1.0,1,1,8.0</td>\n",
       "    </tr>\n",
       "    <tr>\n",
       "      <th>2,ME,/use</th>\n",
       "      <th>s/wonsang1995/wo</th>\n",
       "      <td>k/JSNS2_ws/select_JSHDIR/</td>\n",
       "      <td>001809/ME/build.f00226.h5,1.0,1,2,6.0</td>\n",
       "    </tr>\n",
       "    <tr>\n",
       "      <th>3,ME,/use</th>\n",
       "      <th>s/wonsang1995/wo</th>\n",
       "      <td>k/JSNS2_ws/select_JSHDIR/</td>\n",
       "      <td>001809/ME/build.f00031.h5,1.0,1,3,5.0</td>\n",
       "    </tr>\n",
       "    <tr>\n",
       "      <th>4,ME,/use</th>\n",
       "      <th>s/wonsang1995/wo</th>\n",
       "      <td>k/JSNS2_ws/select_JSHDIR/</td>\n",
       "      <td>001809/ME/build.f00039.h5,1.0,1,4,8.0</td>\n",
       "    </tr>\n",
       "    <tr>\n",
       "      <th>...</th>\n",
       "      <th>...</th>\n",
       "      <td>...</td>\n",
       "      <td>...</td>\n",
       "    </tr>\n",
       "    <tr>\n",
       "      <th>415,FN,/use</th>\n",
       "      <th>s/wonsang1995/wo</th>\n",
       "      <td>k/JSNS2_ws/select_JSHDIR/</td>\n",
       "      <td>001809/FN/build.f00102.h5,1.0,0,415,1.0</td>\n",
       "    </tr>\n",
       "    <tr>\n",
       "      <th>416,FN,/use</th>\n",
       "      <th>s/wonsang1995/wo</th>\n",
       "      <td>k/JSNS2_ws/select_JSHDIR/</td>\n",
       "      <td>001809/FN/build.f00158.h5,1.0,0,416,3.0</td>\n",
       "    </tr>\n",
       "    <tr>\n",
       "      <th>417,FN,/use</th>\n",
       "      <th>s/wonsang1995/wo</th>\n",
       "      <td>k/JSNS2_ws/select_JSHDIR/</td>\n",
       "      <td>001809/FN/build.f00187.h5,1.0,0,417,1.0</td>\n",
       "    </tr>\n",
       "    <tr>\n",
       "      <th>418,FN,/use</th>\n",
       "      <th>s/wonsang1995/wo</th>\n",
       "      <td>k/JSNS2_ws/select_JSHDIR/</td>\n",
       "      <td>001809/FN/build.f00175.h5,1.0,0,418,1.0</td>\n",
       "    </tr>\n",
       "    <tr>\n",
       "      <th>419,FN,/use</th>\n",
       "      <th>s/wonsang1995/wo</th>\n",
       "      <td>k/JSNS2_ws/select_JSHDIR/</td>\n",
       "      <td>001809/FN/build.f00052.h5,1.0,0,419,1.0</td>\n",
       "    </tr>\n",
       "  </tbody>\n",
       "</table>\n",
       "<p>420 rows × 2 columns</p>\n",
       "</div>"
      ],
      "text/plain": [
       "                                                     ,p  \\\n",
       "0,ME,/use   s/wonsang1995/wo  k/JSNS2_ws/select_JSHDIR/   \n",
       "1,ME,/use   s/wonsang1995/wo  k/JSNS2_ws/select_JSHDIR/   \n",
       "2,ME,/use   s/wonsang1995/wo  k/JSNS2_ws/select_JSHDIR/   \n",
       "3,ME,/use   s/wonsang1995/wo  k/JSNS2_ws/select_JSHDIR/   \n",
       "4,ME,/use   s/wonsang1995/wo  k/JSNS2_ws/select_JSHDIR/   \n",
       "...                                                 ...   \n",
       "415,FN,/use s/wonsang1995/wo  k/JSNS2_ws/select_JSHDIR/   \n",
       "416,FN,/use s/wonsang1995/wo  k/JSNS2_ws/select_JSHDIR/   \n",
       "417,FN,/use s/wonsang1995/wo  k/JSNS2_ws/select_JSHDIR/   \n",
       "418,FN,/use s/wonsang1995/wo  k/JSNS2_ws/select_JSHDIR/   \n",
       "419,FN,/use s/wonsang1995/wo  k/JSNS2_ws/select_JSHDIR/   \n",
       "\n",
       "                             ocName,fileName,weight,label,fileIdx,nEvents  \n",
       "0,ME,/use   s/wonsang1995/wo        001809/ME/build.f00124.h5,1.0,1,0,5.0  \n",
       "1,ME,/use   s/wonsang1995/wo        001809/ME/build.f00060.h5,1.0,1,1,8.0  \n",
       "2,ME,/use   s/wonsang1995/wo        001809/ME/build.f00226.h5,1.0,1,2,6.0  \n",
       "3,ME,/use   s/wonsang1995/wo        001809/ME/build.f00031.h5,1.0,1,3,5.0  \n",
       "4,ME,/use   s/wonsang1995/wo        001809/ME/build.f00039.h5,1.0,1,4,8.0  \n",
       "...                                                                   ...  \n",
       "415,FN,/use s/wonsang1995/wo      001809/FN/build.f00102.h5,1.0,0,415,1.0  \n",
       "416,FN,/use s/wonsang1995/wo      001809/FN/build.f00158.h5,1.0,0,416,3.0  \n",
       "417,FN,/use s/wonsang1995/wo      001809/FN/build.f00187.h5,1.0,0,417,1.0  \n",
       "418,FN,/use s/wonsang1995/wo      001809/FN/build.f00175.h5,1.0,0,418,1.0  \n",
       "419,FN,/use s/wonsang1995/wo      001809/FN/build.f00052.h5,1.0,0,419,1.0  \n",
       "\n",
       "[420 rows x 2 columns]"
      ]
     },
     "execution_count": 14,
     "metadata": {},
     "output_type": "execute_result"
    }
   ],
   "source": [
    "nf"
   ]
  },
  {
   "cell_type": "code",
   "execution_count": 18,
   "metadata": {},
   "outputs": [
    {
     "ename": "KeyError",
     "evalue": "'nEvents'",
     "output_type": "error",
     "traceback": [
      "\u001b[0;31m---------------------------------------------------------------------------\u001b[0m",
      "\u001b[0;31mKeyError\u001b[0m                                  Traceback (most recent call last)",
      "\u001b[0;32m~/.conda/envs/pytorch170_pyG/lib/python3.7/site-packages/pandas/core/indexes/base.py\u001b[0m in \u001b[0;36mget_loc\u001b[0;34m(self, key, method, tolerance)\u001b[0m\n\u001b[1;32m   3079\u001b[0m             \u001b[0;32mtry\u001b[0m\u001b[0;34m:\u001b[0m\u001b[0;34m\u001b[0m\u001b[0;34m\u001b[0m\u001b[0m\n\u001b[0;32m-> 3080\u001b[0;31m                 \u001b[0;32mreturn\u001b[0m \u001b[0mself\u001b[0m\u001b[0;34m.\u001b[0m\u001b[0m_engine\u001b[0m\u001b[0;34m.\u001b[0m\u001b[0mget_loc\u001b[0m\u001b[0;34m(\u001b[0m\u001b[0mcasted_key\u001b[0m\u001b[0;34m)\u001b[0m\u001b[0;34m\u001b[0m\u001b[0;34m\u001b[0m\u001b[0m\n\u001b[0m\u001b[1;32m   3081\u001b[0m             \u001b[0;32mexcept\u001b[0m \u001b[0mKeyError\u001b[0m \u001b[0;32mas\u001b[0m \u001b[0merr\u001b[0m\u001b[0;34m:\u001b[0m\u001b[0;34m\u001b[0m\u001b[0;34m\u001b[0m\u001b[0m\n",
      "\u001b[0;32mpandas/_libs/index.pyx\u001b[0m in \u001b[0;36mpandas._libs.index.IndexEngine.get_loc\u001b[0;34m()\u001b[0m\n",
      "\u001b[0;32mpandas/_libs/index.pyx\u001b[0m in \u001b[0;36mpandas._libs.index.IndexEngine.get_loc\u001b[0;34m()\u001b[0m\n",
      "\u001b[0;32mpandas/_libs/hashtable_class_helper.pxi\u001b[0m in \u001b[0;36mpandas._libs.hashtable.PyObjectHashTable.get_item\u001b[0;34m()\u001b[0m\n",
      "\u001b[0;32mpandas/_libs/hashtable_class_helper.pxi\u001b[0m in \u001b[0;36mpandas._libs.hashtable.PyObjectHashTable.get_item\u001b[0;34m()\u001b[0m\n",
      "\u001b[0;31mKeyError\u001b[0m: 'nEvents'",
      "\nThe above exception was the direct cause of the following exception:\n",
      "\u001b[0;31mKeyError\u001b[0m                                  Traceback (most recent call last)",
      "\u001b[0;32m<ipython-input-18-ae24e7442807>\u001b[0m in \u001b[0;36m<module>\u001b[0;34m\u001b[0m\n\u001b[0;32m----> 1\u001b[0;31m \u001b[0mnf\u001b[0m\u001b[0;34m[\u001b[0m\u001b[0;34m'nEvents'\u001b[0m\u001b[0;34m]\u001b[0m\u001b[0;34m\u001b[0m\u001b[0;34m\u001b[0m\u001b[0m\n\u001b[0m",
      "\u001b[0;32m~/.conda/envs/pytorch170_pyG/lib/python3.7/site-packages/pandas/core/frame.py\u001b[0m in \u001b[0;36m__getitem__\u001b[0;34m(self, key)\u001b[0m\n\u001b[1;32m   3022\u001b[0m             \u001b[0;32mif\u001b[0m \u001b[0mself\u001b[0m\u001b[0;34m.\u001b[0m\u001b[0mcolumns\u001b[0m\u001b[0;34m.\u001b[0m\u001b[0mnlevels\u001b[0m \u001b[0;34m>\u001b[0m \u001b[0;36m1\u001b[0m\u001b[0;34m:\u001b[0m\u001b[0;34m\u001b[0m\u001b[0;34m\u001b[0m\u001b[0m\n\u001b[1;32m   3023\u001b[0m                 \u001b[0;32mreturn\u001b[0m \u001b[0mself\u001b[0m\u001b[0;34m.\u001b[0m\u001b[0m_getitem_multilevel\u001b[0m\u001b[0;34m(\u001b[0m\u001b[0mkey\u001b[0m\u001b[0;34m)\u001b[0m\u001b[0;34m\u001b[0m\u001b[0;34m\u001b[0m\u001b[0m\n\u001b[0;32m-> 3024\u001b[0;31m             \u001b[0mindexer\u001b[0m \u001b[0;34m=\u001b[0m \u001b[0mself\u001b[0m\u001b[0;34m.\u001b[0m\u001b[0mcolumns\u001b[0m\u001b[0;34m.\u001b[0m\u001b[0mget_loc\u001b[0m\u001b[0;34m(\u001b[0m\u001b[0mkey\u001b[0m\u001b[0;34m)\u001b[0m\u001b[0;34m\u001b[0m\u001b[0;34m\u001b[0m\u001b[0m\n\u001b[0m\u001b[1;32m   3025\u001b[0m             \u001b[0;32mif\u001b[0m \u001b[0mis_integer\u001b[0m\u001b[0;34m(\u001b[0m\u001b[0mindexer\u001b[0m\u001b[0;34m)\u001b[0m\u001b[0;34m:\u001b[0m\u001b[0;34m\u001b[0m\u001b[0;34m\u001b[0m\u001b[0m\n\u001b[1;32m   3026\u001b[0m                 \u001b[0mindexer\u001b[0m \u001b[0;34m=\u001b[0m \u001b[0;34m[\u001b[0m\u001b[0mindexer\u001b[0m\u001b[0;34m]\u001b[0m\u001b[0;34m\u001b[0m\u001b[0;34m\u001b[0m\u001b[0m\n",
      "\u001b[0;32m~/.conda/envs/pytorch170_pyG/lib/python3.7/site-packages/pandas/core/indexes/base.py\u001b[0m in \u001b[0;36mget_loc\u001b[0;34m(self, key, method, tolerance)\u001b[0m\n\u001b[1;32m   3080\u001b[0m                 \u001b[0;32mreturn\u001b[0m \u001b[0mself\u001b[0m\u001b[0;34m.\u001b[0m\u001b[0m_engine\u001b[0m\u001b[0;34m.\u001b[0m\u001b[0mget_loc\u001b[0m\u001b[0;34m(\u001b[0m\u001b[0mcasted_key\u001b[0m\u001b[0;34m)\u001b[0m\u001b[0;34m\u001b[0m\u001b[0;34m\u001b[0m\u001b[0m\n\u001b[1;32m   3081\u001b[0m             \u001b[0;32mexcept\u001b[0m \u001b[0mKeyError\u001b[0m \u001b[0;32mas\u001b[0m \u001b[0merr\u001b[0m\u001b[0;34m:\u001b[0m\u001b[0;34m\u001b[0m\u001b[0;34m\u001b[0m\u001b[0m\n\u001b[0;32m-> 3082\u001b[0;31m                 \u001b[0;32mraise\u001b[0m \u001b[0mKeyError\u001b[0m\u001b[0;34m(\u001b[0m\u001b[0mkey\u001b[0m\u001b[0;34m)\u001b[0m \u001b[0;32mfrom\u001b[0m \u001b[0merr\u001b[0m\u001b[0;34m\u001b[0m\u001b[0;34m\u001b[0m\u001b[0m\n\u001b[0m\u001b[1;32m   3083\u001b[0m \u001b[0;34m\u001b[0m\u001b[0m\n\u001b[1;32m   3084\u001b[0m         \u001b[0;32mif\u001b[0m \u001b[0mtolerance\u001b[0m \u001b[0;32mis\u001b[0m \u001b[0;32mnot\u001b[0m \u001b[0;32mNone\u001b[0m\u001b[0;34m:\u001b[0m\u001b[0;34m\u001b[0m\u001b[0;34m\u001b[0m\u001b[0m\n",
      "\u001b[0;31mKeyError\u001b[0m: 'nEvents'"
     ]
    }
   ],
   "source": [
    "nf['nEvents']"
   ]
  },
  {
   "cell_type": "code",
   "execution_count": null,
   "metadata": {},
   "outputs": [],
   "source": []
  },
  {
   "cell_type": "code",
   "execution_count": null,
   "metadata": {},
   "outputs": [],
   "source": []
  },
  {
   "cell_type": "code",
   "execution_count": null,
   "metadata": {},
   "outputs": [],
   "source": []
  },
  {
   "cell_type": "code",
   "execution_count": null,
   "metadata": {},
   "outputs": [],
   "source": []
  }
 ],
 "metadata": {
  "kernelspec": {
   "display_name": "Python 3",
   "language": "python",
   "name": "python3"
  },
  "language_info": {
   "codemirror_mode": {
    "name": "ipython",
    "version": 3
   },
   "file_extension": ".py",
   "mimetype": "text/x-python",
   "name": "python",
   "nbconvert_exporter": "python",
   "pygments_lexer": "ipython3",
   "version": "3.7.9"
  }
 },
 "nbformat": 4,
 "nbformat_minor": 4
}
