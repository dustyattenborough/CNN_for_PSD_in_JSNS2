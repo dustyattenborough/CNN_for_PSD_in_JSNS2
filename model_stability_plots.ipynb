{
 "cells": [
  {
   "cell_type": "code",
   "execution_count": 1,
   "metadata": {},
   "outputs": [],
   "source": [
    "import uproot\n",
    "import numpy as np\n",
    "import os"
   ]
  },
  {
   "cell_type": "code",
   "execution_count": 2,
   "metadata": {},
   "outputs": [],
   "source": [
    "# AUC = [0.983,0.972,0.982,0.987,0.982,0.982,0.9801,0.982,0.985,0.983,0.958,0.992,0.984,0.983,0.979]\n",
    "# ME_eff = [93.95,94.37,94.53,94.42,94.37,93.92,93.02,   89.48,94.12,94.28,92.80,90.57,90.84,89.97,88.63]\n",
    "# FN_rej = [95.58,95.64,95.06,95.75,95.26,95.41,95.77,   96.15,95.40,95.06,94.70,95.89,96.67,96.55,96.75]"
   ]
  },
  {
   "cell_type": "code",
   "execution_count": 3,
   "metadata": {},
   "outputs": [],
   "source": [
    "# AUC = [0.981,0.963,0.981,0.986,0.982,0.980,0.978,0.979,0.984,0.981,0.959,0.983,0.988,0.977]\n",
    "# ME_eff = [94.1,94.46,94.50,94.35,94.40,93.93,93.13,91.24,94.71,95.18,94.55,93.17,92.04,91.26]\n",
    "# FN_rej = [95.64,95.36,95.56,95.66,95.93,95.70,95.90,95.41,95.55,95.14,95.93,96.13,96.30,96.61]"
   ]
  },
  {
   "cell_type": "code",
   "execution_count": 4,
   "metadata": {},
   "outputs": [],
   "source": [
    "# ME_90_FN = [96.66,96.79,96.39,96.96,96.91,96.81,96.58,96.03,96.78,96.44,95.61,96.19,96.84,96.54,96.35]\n",
    "# ME_95_FN = [94.93,95.34,94.73,95.45,94.86,94.94,94.72,92.77,94.90,94.78,93.49,93.11,94.75,94.25,94.16]\n",
    "# ME_99_FN = [86.71,86.75,86.16,87.11,87.02,86.51,86.07,80.67,87.07,86.65,82.32,82.84,85.44,85.42,84.23]\n",
    "\n",
    "# FN_90_ME = [98.21,98.24,98.12,98.42,98.16,98.34,98.10,96.82,98.28,98.22,97.32,97.30,98.13,97.90,97.77]\n",
    "# FN_95_ME = [94.58,95.18,93.98,95.14,94.46,94.21,93.96,92.09,94.30,93.68,91.26,91.78,94.34,92.90,92.92]\n",
    "# FN_99_ME = [46.05,40.41,39.15,41.59,50.02,43.52,39.05,36.79,42.35,37.02,34.73,31.91,42.98,37.15,37.72]"
   ]
  },
  {
   "cell_type": "code",
   "execution_count": 5,
   "metadata": {},
   "outputs": [],
   "source": [
    "# run_num = [1,2,3,4,5,6,7,8,9,10,11,12,13,14]\n",
    "# FN_nums = [9608,7105,8632,7199,7305,9113,7192,7483,7536,8563,7048, 10034,7094,10098]\n",
    "# ME_nums = [178312,139038,147197,136239,138353,162239,128736,125619,134302,136156,118329,138650,104891,154155]"
   ]
  },
  {
   "cell_type": "code",
   "execution_count": null,
   "metadata": {},
   "outputs": [],
   "source": []
  },
  {
   "cell_type": "code",
   "execution_count": 6,
   "metadata": {},
   "outputs": [],
   "source": [
    "def nerror(eff,N):\n",
    "    y = np.sqrt(((100-eff)/100)*(eff/100)/N)\n",
    "    return y"
   ]
  },
  {
   "cell_type": "code",
   "execution_count": 7,
   "metadata": {},
   "outputs": [],
   "source": [
    "def nnerror(eff,N):\n",
    "    y = np.sqrt((100-eff)*eff/N)\n",
    "    return y"
   ]
  },
  {
   "cell_type": "code",
   "execution_count": 8,
   "metadata": {},
   "outputs": [],
   "source": [
    "import matplotlib.pyplot as plt"
   ]
  },
  {
   "cell_type": "code",
   "execution_count": 9,
   "metadata": {},
   "outputs": [],
   "source": [
    "# np.average(np.array(AUC))"
   ]
  },
  {
   "cell_type": "code",
   "execution_count": 10,
   "metadata": {},
   "outputs": [],
   "source": [
    "# plt.plot(np.array(run_num),np.array(AUC),'r.',label='AUC')\n",
    "# plt.hlines(np.average(np.array(AUC)),1,15,color = 'blue',label='AUC average = 0.98')\n",
    "\n",
    "# plt.ylim([0.92,1.00])\n",
    "# # plt.hlines(0.982,1,15,color='black',label='AUC = 0.982')\n",
    "# plt.legend()\n",
    "# plt.ylabel('AUC',fontsize = 15)\n",
    "# plt.xlabel('data set',fontsize = 15)\n",
    "\n",
    "# plt.show()"
   ]
  },
  {
   "cell_type": "code",
   "execution_count": 11,
   "metadata": {},
   "outputs": [],
   "source": [
    "# plt.errorbar(np.array(run_num),np.array(FN_rej),yerr=nnerror(np.array(FN_rej),np.array(FN_nums)),color='r',fmt='.',label='FN rejection')\n",
    "# plt.hlines(np.average(np.array(FN_rej)),1,15,color = 'blue',label='FN rejection average')\n",
    "\n",
    "# plt.ylim([90.0,100.0])\n",
    "# plt.hlines(94.96,1,15,color='black',label='FN rejection=94.96')\n",
    "# plt.legend(loc='lower right')\n",
    "# plt.ylabel('FN rejection',fontsize = 15)\n",
    "# plt.xlabel('data set',fontsize = 15)\n",
    "\n",
    "# plt.show()"
   ]
  },
  {
   "cell_type": "code",
   "execution_count": 12,
   "metadata": {},
   "outputs": [],
   "source": [
    "# plt.errorbar(np.array(run_num),np.array(ME_90_FN),yerr=nnerror(np.array(ME_90_FN),np.array(ME_nums)),color='r',fmt='.',label='FN rejection')\n",
    "# plt.hlines(np.average(np.array(ME_90_FN)),1,15,color = 'blue',label='FN rejection average')\n",
    "\n",
    "# plt.ylim([90.0,100.0])\n",
    "# # plt.hlines(94.96,1,15,color='black',label='FN rejection=94.96')\n",
    "# plt.legend(loc='lower right')\n",
    "# plt.ylabel('FN rejection',fontsize = 15)\n",
    "# plt.xlabel('data set',fontsize = 15)\n",
    "# plt.title('ME efficiency 90%',fontsize = 15)\n",
    "\n",
    "# plt.show()"
   ]
  },
  {
   "cell_type": "code",
   "execution_count": 13,
   "metadata": {},
   "outputs": [],
   "source": [
    "# plt.errorbar(np.array(run_num),np.array(ME_95_FN),yerr=nnerror(np.array(ME_95_FN),np.array(ME_nums)),color='r',fmt='.',label='FN rejection')\n",
    "# plt.hlines(np.average(np.array(ME_95_FN)),1,15,color = 'blue',label='FN rejection average')\n",
    "\n",
    "# plt.ylim([90.0,100.0])\n",
    "# # plt.hlines(94.96,1,15,color='black',label='FN rejection=94.96')\n",
    "# plt.legend(loc='lower right')\n",
    "# plt.ylabel('FN rejection',fontsize = 15)\n",
    "# plt.xlabel('data set',fontsize = 15)\n",
    "# plt.title('ME efficiency 95%',fontsize = 15)\n",
    "\n",
    "# plt.show()"
   ]
  },
  {
   "cell_type": "code",
   "execution_count": 14,
   "metadata": {},
   "outputs": [],
   "source": [
    "# plt.errorbar(np.array(run_num),np.array(ME_99_FN),yerr=nnerror(np.array(ME_99_FN),np.array(ME_nums)),color='r',fmt='.',label='FN rejection')\n",
    "# plt.hlines(np.average(np.array(ME_99_FN)),1,15,color = 'blue',label='FN rejection average')\n",
    "\n",
    "# plt.ylim([50.0,100.0])\n",
    "# # plt.hlines(94.96,1,15,color='black',label='FN rejection=94.96')\n",
    "# plt.legend(loc='lower right')\n",
    "# plt.ylabel('FN rejection',fontsize = 15)\n",
    "# plt.xlabel('data set',fontsize = 15)\n",
    "# plt.title('ME efficiency 99%',fontsize = 15)\n",
    "# plt.show()"
   ]
  },
  {
   "cell_type": "code",
   "execution_count": 15,
   "metadata": {},
   "outputs": [],
   "source": [
    "# plt.errorbar(np.array(run_num),np.array(ME_eff),yerr=nnerror(np.array(ME_eff),np.array(FN_nums)),color='r',fmt='.',label='FN rejection')\n",
    "# plt.hlines(np.average(np.array(ME_eff)),1,15,color = 'blue',label='ME efficiency average')\n",
    "\n",
    "# plt.ylim([80,102])\n",
    "# plt.hlines(93.64,1,15,color='black',label='ME efficiecncy = 93.64')\n",
    "# plt.ylabel('ME efficiency',fontsize = 15)\n",
    "# plt.xlabel('runnum',fontsize = 15)\n",
    "# plt.legend()\n",
    "\n",
    "# plt.show()"
   ]
  },
  {
   "cell_type": "code",
   "execution_count": 16,
   "metadata": {},
   "outputs": [],
   "source": [
    "# plt.errorbar(np.array(run_num),np.array(FN_90_ME),yerr=nnerror(np.array(FN_90_ME),np.array(ME_nums)),color='r',fmt='.',label='FN rejection')\n",
    "# plt.hlines(np.average(np.array(FN_90_ME)),1,15,color = 'blue',label='ME efficiency average')\n",
    "\n",
    "# plt.ylim([80,102])\n",
    "# # plt.hlines(93.64,1,15,color='black',label='ME efficiecncy = 93.64')\n",
    "# plt.ylabel('ME efficiency',fontsize = 15)\n",
    "# plt.xlabel('runnum',fontsize = 15)\n",
    "# plt.title('FN rejection 90%',fontsize = 15)\n",
    "# plt.legend()\n",
    "\n",
    "# plt.show()"
   ]
  },
  {
   "cell_type": "code",
   "execution_count": 17,
   "metadata": {},
   "outputs": [],
   "source": [
    "# plt.errorbar(np.array(run_num),np.array(FN_95_ME),yerr=nnerror(np.array(FN_95_ME),np.array(ME_nums)),color='r',fmt='.',label='FN rejection')\n",
    "# plt.hlines(np.average(np.array(FN_95_ME)),1,15,color = 'blue',label='ME efficiency average')\n",
    "\n",
    "# plt.ylim([80,102])\n",
    "# # plt.hlines(93.64,1,15,color='black',label='ME efficiecncy = 93.64')\n",
    "# plt.ylabel('ME efficiency',fontsize = 15)\n",
    "# plt.xlabel('runnum',fontsize = 15)\n",
    "# plt.title('FN rejection 95%',fontsize = 15)\n",
    "# plt.legend()\n",
    "\n",
    "# plt.show()"
   ]
  },
  {
   "cell_type": "code",
   "execution_count": 18,
   "metadata": {},
   "outputs": [],
   "source": [
    "# plt.errorbar(np.array(run_num),np.array(FN_99_ME),yerr=nnerror(np.array(FN_99_ME),np.array(ME_nums)),color='r',fmt='.',label='FN rejection')\n",
    "# plt.hlines(np.average(np.array(FN_99_ME)),1,15,color = 'blue',label='ME efficiency average')\n",
    "\n",
    "# plt.ylim([30,102])\n",
    "# # plt.hlines(93.64,1,15,color='black',label='ME efficiecncy = 93.64')\n",
    "# plt.ylabel('ME efficiency',fontsize = 15)\n",
    "# plt.xlabel('runnum',fontsize = 15)\n",
    "# plt.title('FN rejection 99%',fontsize = 15)\n",
    "# plt.legend()\n",
    "\n",
    "# plt.show()"
   ]
  },
  {
   "cell_type": "code",
   "execution_count": 19,
   "metadata": {},
   "outputs": [],
   "source": [
    "# np.average(np.array(ME_eff))"
   ]
  },
  {
   "cell_type": "code",
   "execution_count": 20,
   "metadata": {},
   "outputs": [],
   "source": [
    "# nnerror(np.array(ME_eff),np.array(ME_nums))"
   ]
  },
  {
   "cell_type": "code",
   "execution_count": 33,
   "metadata": {},
   "outputs": [
    {
     "data": {
      "image/png": "[encoded data removed]",
      "text/plain": [
       "<Figure size 432x288 with 1 Axes>"
      ]
     },
     "metadata": {
      "needs_background": "light"
     },
     "output_type": "display_data"
    },
    {
     "data": {
      "image/png": "[encoded data removed]",
      "text/plain": [
       "<Figure size 432x288 with 1 Axes>"
      ]
     },
     "metadata": {
      "needs_background": "light"
     },
     "output_type": "display_data"
    },
    {
     "data": {
      "image/png": "[encoded data removed]",
      "text/plain": [
       "<Figure size 432x288 with 1 Axes>"
      ]
     },
     "metadata": {
      "needs_background": "light"
     },
     "output_type": "display_data"
    }
   ],
   "source": [
    "# AUC = [0.983,0.972,0.982,0.987,0.982,0.982,0.9801,0.982,0.985,0.983,0.958,0.992,0.984,0.983,0.979]\n",
    "# ME_eff = [93.95,94.37,94.53,94.42,94.37,93.92,93.02,93.11,94.12,94.28,92.80,93.00,93.43,93.08,93.09]\n",
    "# FN_rej = [95.58,95.64,95.06,95.75,95.26,95.41,95.77,94.51,95.40,95.06,94.70,94.67,95.71,95.18,95.24]\n",
    "\n",
    "# AUC = [0.981,0.963,0.981,0.986,0.982,0.980,0.978,0.979,0.984,0.981,0.959,0.983,0.988,0.977]\n",
    "# ME_eff = [94.1,94.46,94.50,94.35,94.40,93.93,93.13,91.24,94.71,95.18,94.55,93.17,92.04,91.26]\n",
    "# FN_rej = [95.64,95.36,95.56,95.66,95.93,95.70,95.90,95.41,95.55,95.14,95.93,96.13,96.30,96.61]\n",
    "\n",
    "# AUC = [0.981,0.979,0.982,0.983,0.980,0.974,0.981,0.984,0.978,0.983,0.980,0.977]\n",
    "\n",
    "# ME_eff = [94.10,94.41,94.39,94.51,93.97,93.10,93.94,95.08,95.13,93.21,93.91,93.88]\n",
    "# FN_rej = [95.64,95.38,95.68,95.92,95.76,95.34,95.54,95.24,95.30,96.11,95.53,95.08]\n",
    "\n",
    "# run_num = [1,2,3,4,5,6,7,8,9,10,11,12]\n",
    "# FN_nums = [9608,9434,10855,8475,10190,9440,8216,8041,9084,11238,8437,8703]\n",
    "# ME_nums = [178312,174827,198183,158950,184103,163022,145118,129605,149638,159823,127593,130681]\n",
    "\n",
    "\n",
    "# AUC = [0.981,0.963,0.981,0.986,0.982,0.980,0.978,0.980,0.977]\n",
    "# ME_eff = [94.10, 94.46,94.50,94.35,94.40,93.93,93.13,93.83,93.81]\n",
    "# FN_rej = [95.64,95.36,95.56,95.66,95.93,95.70,95.90,95.25,95.36]\n",
    "# run_num = [1,2,3,4,5,6,7,8,9]\n",
    "# FN_nums = [9608,7105,8632,7119,7305,9113,7192,7130,10211]\n",
    "# ME_nums = [178312,139038,147197,136239,138353,162239,128736,105316,155934]\n",
    "\n",
    "AUC = [0.981,0.979,0.982,0.983,0.980,0.967,0.983,0.979,0.984,0.983,0.980,0.977]\n",
    "ME_eff = [94.10,94.43,94.39,94.51,93.97,93.19,93.76,95.03,95.23,93.15,93.91,93.69]\n",
    "FN_rej = [95.64,95.26,95.68,95.91,95.76,95.03,94.87,95.26,95.15,96.14,95.50,95.17]\n",
    "run_num = [1,2,3,4,5,6,7,8,9,10,11,12]\n",
    "FN_nums = [9608,9730,10865,8489,10190,8320,8157,8299,7184,9939,8489,8703]\n",
    "ME_nums = [178312,181230,198419,159314,184103,149088,136787,144297,115319,136772,128365,130681]\n",
    "\n",
    "\n",
    "\n",
    "plt.hlines(np.average(np.array(AUC)),1,12,color = 'blue',label='AUC average = '+str(np.average(np.array(AUC)))[:5],linewidth=4)\n",
    "plt.plot(np.array(run_num),np.array(AUC),'r.',label='AUC',markersize=14)\n",
    "plt.ylim([0.90,1.00])\n",
    "# plt.hlines(0.982,1,15,color='black',label='AUC = 0.982')\n",
    "plt.legend()\n",
    "plt.ylabel('AUC',fontsize = 15)\n",
    "plt.xlabel('data set',fontsize = 15)\n",
    "\n",
    "plt.show()\n",
    "\n",
    "\n",
    "\n",
    "plt.errorbar(np.array(run_num),np.array(FN_rej),yerr=nnerror(np.array(FN_rej),np.array(FN_nums)),color='r',fmt='.',label='FN rejection',markersize=14,linewidth=5)\n",
    "plt.hlines(np.average(np.array(FN_rej)),1,12,color = 'blue',label='FN rejection average = '+str(np.average(np.array(FN_rej)))[:5],linewidth=4)\n",
    "\n",
    "plt.ylim([90.0,100.0])\n",
    "\n",
    "plt.legend(loc='lower right')\n",
    "plt.ylabel('FN rejection (%)',fontsize = 15)\n",
    "plt.xlabel('data set',fontsize = 15)\n",
    "# plt.title('FN rejection',fontsize = 15)\n",
    "plt.show()\n",
    "\n",
    "plt.errorbar(np.array(run_num),np.array(ME_eff),yerr=nnerror(np.array(ME_eff),np.array(ME_nums)),color='r',fmt='.',label='ME efficiency',markersize=14,linewidth=5)\n",
    "plt.hlines(np.average(np.array(ME_eff)),1,12,color = 'blue',label='ME efficiency average = '+str(np.average(np.array(ME_eff)))[:5],linewidth=4)\n",
    "\n",
    "plt.ylim([90,100])\n",
    "\n",
    "plt.ylabel('ME efficiency (%)',fontsize = 15)\n",
    "plt.xlabel('data set',fontsize = 15)\n",
    "# plt.title('ME efficiency (%)',fontsize = 15)\n",
    "plt.legend()\n",
    "\n",
    "plt.show()"
   ]
  },
  {
   "cell_type": "code",
   "execution_count": 29,
   "metadata": {},
   "outputs": [
    {
     "name": "stdout",
     "output_type": "stream",
     "text": [
      "189.74 0.981\n",
      "189.69 0.979\n",
      "190.07 0.982\n",
      "190.42000000000002 0.983\n",
      "189.73000000000002 0.98\n",
      "187.91 0.967\n",
      "188.32999999999998 0.983\n",
      "190.29000000000002 0.979\n",
      "190.38 0.984\n",
      "189.29000000000002 0.983\n",
      "188.51 0.98\n",
      "187.61 0.977\n"
     ]
    }
   ],
   "source": [
    "ME_eff = [94.10,94.43,94.39,\n",
    "          94.51,93.97,92.30,\n",
    "          92.57,95.03,95.23,\n",
    "          93.15,92.06,91.10]\n",
    "FN_rej = [95.64,95.26,95.68,\n",
    "          95.91,95.76,95.61,\n",
    "          95.76,95.26,95.15,\n",
    "          96.14,96.45,96.51]\n",
    "\n",
    "eff_sum = []\n",
    "\n",
    "for i in range(len(AUC)):\n",
    "    print((np.array(FN_rej)+np.array(ME_eff))[i],AUC[i])\n",
    "    \n",
    "    eff_sum.append((np.array(FN_rej)+np.array(ME_eff))[i])"
   ]
  },
  {
   "cell_type": "code",
   "execution_count": 31,
   "metadata": {},
   "outputs": [
    {
     "data": {
      "text/plain": [
       "array([187.61, 187.91, 188.33, 188.51, 189.29, 189.69, 189.73, 189.74,\n",
       "       190.07, 190.29, 190.38, 190.42])"
      ]
     },
     "execution_count": 31,
     "metadata": {},
     "output_type": "execute_result"
    }
   ],
   "source": [
    "np.sort(np.array(eff_sum))"
   ]
  },
  {
   "cell_type": "code",
   "execution_count": 23,
   "metadata": {},
   "outputs": [
    {
     "name": "stdout",
     "output_type": "stream",
     "text": [
      "[0.20832747 0.215421   0.19504624 0.2149638  0.19961258 0.23825767\n",
      " 0.24426312 0.23325533 0.25344989 0.19322992 0.22499853 0.22982068]\n"
     ]
    }
   ],
   "source": [
    "print(nnerror(np.array(FN_rej),np.array(FN_nums)))"
   ]
  },
  {
   "cell_type": "code",
   "execution_count": 24,
   "metadata": {},
   "outputs": [
    {
     "data": {
      "text/plain": [
       "array([0.981, 0.979, 0.982, 0.983, 0.98 , 0.967, 0.983, 0.979, 0.984,\n",
       "       0.983, 0.98 , 0.977])"
      ]
     },
     "execution_count": 24,
     "metadata": {},
     "output_type": "execute_result"
    }
   ],
   "source": [
    "np.array(AUC)"
   ]
  },
  {
   "cell_type": "code",
   "execution_count": 36,
   "metadata": {},
   "outputs": [
    {
     "data": {
      "image/png": "[encoded data removed]",
      "text/plain": [
       "<Figure size 432x288 with 1 Axes>"
      ]
     },
     "metadata": {
      "needs_background": "light"
     },
     "output_type": "display_data"
    },
    {
     "data": {
      "image/png": "[encoded data removed]",
      "text/plain": [
       "<Figure size 432x288 with 1 Axes>"
      ]
     },
     "metadata": {
      "needs_background": "light"
     },
     "output_type": "display_data"
    },
    {
     "data": {
      "image/png": "[encoded data removed]",
      "text/plain": [
       "<Figure size 432x288 with 1 Axes>"
      ]
     },
     "metadata": {
      "needs_background": "light"
     },
     "output_type": "display_data"
    }
   ],
   "source": [
    "# AUC = [0.983,0.972,0.982,0.987,0.982,0.982,0.9801,0.982,0.985,0.983,0.958,0.992,0.984,0.983,0.979]\n",
    "# ME_eff = [93.95,94.37,94.53,94.42,94.37,93.92,93.02,93.11,94.12,94.28,92.80,93.00,93.43,93.08,93.09]\n",
    "# FN_rej = [95.58,95.64,95.06,95.75,95.26,95.41,95.77,94.51,95.40,95.06,94.70,94.67,95.71,95.18,95.24]\n",
    "\n",
    "# AUC = [0.981,0.963,0.981,0.986,0.982,0.980,0.978,0.979,0.984,0.981,0.959,0.983,0.988,0.977]\n",
    "# ME_eff = [94.1,94.46,94.50,94.35,94.40,93.93,93.13,91.24,94.71,95.18,94.55,93.17,92.04,91.26]\n",
    "# FN_rej = [95.64,95.36,95.56,95.66,95.93,95.70,95.90,95.41,95.55,95.14,95.93,96.13,96.30,96.61]\n",
    "\n",
    "# AUC = [0.981,0.979,0.982,0.983,0.980,0.974,0.981,0.984,0.978,0.983,0.980,0.977]\n",
    "\n",
    "# ME_eff = [94.10,94.41,94.39,94.51,93.97,93.10,93.94,95.08,95.13,93.21,93.91,93.88]\n",
    "# FN_rej = [95.64,95.38,95.68,95.92,95.76,95.34,95.54,95.24,95.30,96.11,95.53,95.08]\n",
    "\n",
    "# run_num = [1,2,3,4,5,6,7,8,9,10,11,12]\n",
    "# FN_nums = [9608,9434,10855,8475,10190,9440,8216,8041,9084,11238,8437,8703]\n",
    "# ME_nums = [178312,174827,198183,158950,184103,163022,145118,129605,149638,159823,127593,130681]\n",
    "\n",
    "\n",
    "# AUC = [0.981,0.963,0.981,0.986,0.982,0.980,0.978,0.980,0.977]\n",
    "# ME_eff = [94.10, 94.46,94.50,94.35,94.40,93.93,93.13,93.83,93.81]\n",
    "# FN_rej = [95.64,95.36,95.56,95.66,95.93,95.70,95.90,95.25,95.36]\n",
    "# run_num = [1,2,3,4,5,6,7,8,9]\n",
    "# FN_nums = [9608,7105,8632,7119,7305,9113,7192,7130,10211]\n",
    "# ME_nums = [178312,139038,147197,136239,138353,162239,128736,105316,155934]\n",
    "\n",
    "AUC = [0.981,0.979,0.982,0.983,0.980,0.983,0.979,0.984,0.983,0.980,0.977]\n",
    "ME_eff = [94.10,94.43,94.39,94.51,93.97,93.76,95.03,95.23,93.15,93.91,93.69]\n",
    "FN_rej = [95.64,95.26,95.68,95.91,95.76,94.87,95.26,95.15,96.14,95.50,95.17]\n",
    "run_num = [1,2,3,4,5,6,7,8,9,10,11]\n",
    "FN_nums = [9608,9730,10865,8489,10190,8157,8299,7184,9939,8489,8703]\n",
    "ME_nums = [178312,181230,198419,159314,184103,136787,144297,115319,136772,128365,130681]\n",
    "\n",
    "\n",
    "\n",
    "plt.hlines(np.average(np.array(AUC)),1,11,color = 'blue',label='AUC average = '+str(np.average(np.array(AUC)))[:5],linewidth=4)\n",
    "plt.plot(np.array(run_num),np.array(AUC),'r.',label='AUC',markersize=14)\n",
    "plt.ylim([0.96,1.00])\n",
    "# plt.hlines(0.982,1,15,color='black',label='AUC = 0.982')\n",
    "plt.legend()\n",
    "plt.ylabel('AUC',fontsize = 15)\n",
    "plt.xlabel('data set',fontsize = 15)\n",
    "\n",
    "plt.show()\n",
    "\n",
    "\n",
    "\n",
    "plt.errorbar(np.array(run_num),np.array(FN_rej),yerr=nnerror(np.array(FN_rej),np.array(FN_nums)),color='r',fmt='.',label='FN rejection',markersize=14,linewidth=5)\n",
    "plt.hlines(np.average(np.array(FN_rej)),1,11,color = 'blue',label='FN rejection average = '+str(np.average(np.array(FN_rej)))[:5],linewidth=4)\n",
    "\n",
    "plt.ylim([90.0,100.0])\n",
    "\n",
    "plt.legend(loc='lower right')\n",
    "plt.ylabel('FN rejection (%)',fontsize = 15)\n",
    "plt.xlabel('data set',fontsize = 15)\n",
    "# plt.title('FN rejection',fontsize = 15)\n",
    "plt.show()\n",
    "\n",
    "plt.errorbar(np.array(run_num),np.array(ME_eff),yerr=nnerror(np.array(ME_eff),np.array(ME_nums)),color='r',fmt='.',label='ME efficiency',markersize=14,linewidth=5)\n",
    "plt.hlines(np.average(np.array(ME_eff)),1,11,color = 'blue',label='ME efficiency average = '+str(np.average(np.array(ME_eff)))[:5],linewidth=4)\n",
    "\n",
    "plt.ylim([90,100])\n",
    "\n",
    "plt.ylabel('ME efficiency (%)',fontsize = 15)\n",
    "plt.xlabel('data set',fontsize = 15)\n",
    "# plt.title('ME efficiency (%)',fontsize = 15)\n",
    "plt.legend()\n",
    "\n",
    "plt.show()"
   ]
  }
 ],
 "metadata": {
  "kernelspec": {
   "display_name": "Python 3",
   "language": "python",
   "name": "python3"
  },
  "language_info": {
   "codemirror_mode": {
    "name": "ipython",
    "version": 3
   },
   "file_extension": ".py",
   "mimetype": "text/x-python",
   "name": "python",
   "nbconvert_exporter": "python",
   "pygments_lexer": "ipython3",
   "version": "3.7.9"
  }
 },
 "nbformat": 4,
 "nbformat_minor": 4
}
