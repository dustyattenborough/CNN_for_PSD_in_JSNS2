{
 "cells": [
  {
   "cell_type": "code",
   "execution_count": 1,
   "metadata": {},
   "outputs": [],
   "source": [
    "import sys, os\n",
    "import argparse\n",
    "\n",
    "import numpy as np\n",
    "import pandas as pd\n",
    "import uproot\n",
    "import csv, yaml\n",
    "\n",
    "import h5py\n",
    "import torch\n",
    "import torch.nn as nn\n",
    "import matplotlib.pyplot as plt"
   ]
  },
  {
   "cell_type": "code",
   "execution_count": null,
   "metadata": {},
   "outputs": [],
   "source": []
  },
  {
   "cell_type": "code",
   "execution_count": null,
   "metadata": {},
   "outputs": [],
   "source": []
  },
  {
   "cell_type": "code",
   "execution_count": null,
   "metadata": {},
   "outputs": [],
   "source": []
  },
  {
   "cell_type": "code",
   "execution_count": 2,
   "metadata": {},
   "outputs": [],
   "source": [
    "def nerror(eff,N):\n",
    "    y = np.sqrt(((100-eff)*eff)/N)\n",
    "    return y"
   ]
  },
  {
   "cell_type": "code",
   "execution_count": 3,
   "metadata": {},
   "outputs": [],
   "source": [
    "# runnum = os.listdir('/store/hep/users/yewzzang/JSNS2_22y/com_data')"
   ]
  },
  {
   "cell_type": "code",
   "execution_count": 4,
   "metadata": {},
   "outputs": [],
   "source": [
    "# path = '/store/hep/users/yewzzang/JSNS2_22y/com_data/'\n",
    "# FN = '/FN_cut_Rho_1.4_ZL_1.0'\n",
    "# ME = '/ME_cut_Rho_1.4_ZL_1.0'"
   ]
  },
  {
   "cell_type": "code",
   "execution_count": 5,
   "metadata": {},
   "outputs": [],
   "source": [
    "# exist = []\n",
    "# nofile = []\n",
    "# runs = []\n",
    "# for i in range(len(runnum)):\n",
    "    \n",
    "#     if os.path.exists(path+runnum[i]+FN):\n",
    "#         exist.append(len(os.listdir(path+runnum[i]+FN)))\n",
    "#         runs.append(runnum[i][3:])\n",
    "#     else:\n",
    "#         nofile.append(runnum[i])"
   ]
  },
  {
   "cell_type": "code",
   "execution_count": 6,
   "metadata": {},
   "outputs": [],
   "source": [
    "runss =[ '1592']"
   ]
  },
  {
   "cell_type": "code",
   "execution_count": 7,
   "metadata": {},
   "outputs": [],
   "source": [
    "run_num = []\n",
    "FN_num = []\n",
    "ME_num = []\n",
    "FN_rej = []\n",
    "ME_eff = []\n",
    "AUC = []\n",
    "\n",
    "\n",
    "if os.path.exists('result/date20220427_train_1592_noDIN/date20220427_train_1592_noDIN.txt') == True:\n",
    "    f = open('result/date20220427_train_1592_noDIN/date20220427_train_1592_noDIN.txt', 'r')\n",
    "    lines = f.readlines()\n",
    "#     for line in lines:\n",
    "#         print(line)\n",
    "    run_num.append(j)\n",
    "#         print(lines)\n",
    "#         print(float(lines[-2].split(' ')[-2]))\n",
    "#         print(float(lines[-2].split(' ')[-1][:-1]))\n",
    "#         print(j)\n",
    "    FN_num.append(float(lines[-2].split(' ')[-2]))        #### FN num\n",
    "    ME_num.append(float(lines[-2].split(' ')[-1][:-1]))   #### ME num\n",
    "    ME_eff.append(float(lines[0].split(' ')[-1][:-2])*100)  #### ME effi\n",
    "    FN_rej.append((1-float(lines[1].split(' ')[-1][:-2]))*100)    #### FN rej\n",
    "    AUC.append(float(lines[-1][:-2]))                       #### AUC\n",
    "    f.close()\n"
   ]
  },
  {
   "cell_type": "code",
   "execution_count": 8,
   "metadata": {
    "scrolled": false
   },
   "outputs": [],
   "source": [
    "# a = 0\n",
    "# c = 0\n",
    "# sets = []\n",
    "# setss = []\n",
    "# for i in range(len(np.array(FN_num))):\n",
    "    \n",
    "#     b = np.array(FN_num)[i]\n",
    "#     a = a + b\n",
    "#     sets.append(np.array(runss)[i])\n",
    "#     if a > 7000:\n",
    "#         print(a,i, np.array(runss)[i])\n",
    "#         c = c+1\n",
    "#         a = 0\n",
    "#         print(c,'c')\n",
    "#         setss.append(sets)\n",
    "#         sets = []"
   ]
  },
  {
   "cell_type": "code",
   "execution_count": 9,
   "metadata": {
    "scrolled": false
   },
   "outputs": [
    {
     "name": "stdout",
     "output_type": "stream",
     "text": [
      "date20220427_train_1563_noDIN\n"
     ]
    },
    {
     "name": "stderr",
     "output_type": "stream",
     "text": [
      "/users/yewzzang/.local/lib/python3.7/site-packages/ipykernel_launcher.py:107: RuntimeWarning: divide by zero encountered in log\n",
      "/users/yewzzang/.local/lib/python3.7/site-packages/ipykernel_launcher.py:108: RuntimeWarning: divide by zero encountered in log\n"
     ]
    }
   ],
   "source": [
    "\n",
    "\n",
    "infos = []\n",
    "sis = []\n",
    "\n",
    "preds = []\n",
    "labels = []\n",
    "dVertexs = []\n",
    "dTs = []\n",
    "vertexXs = []\n",
    "vertexYs = []\n",
    "vertexZs = []\n",
    "\n",
    "result_output = 'test0426'\n",
    "\n",
    "\n",
    "result_input = 'date20220427_train_1563_noDIN'\n",
    "print(result_input)\n",
    "\n",
    "si_path = 'result/' + result_input + '/sampleInfo_eval.csv'\n",
    "fPred = 'result/' + result_input + '/' + result_input + '.csv'\n",
    "si = pd.read_csv(si_path)\n",
    "info = pd.read_csv(fPred)\n",
    "\n",
    "info_numpy = np.array(info)\n",
    "si_numpy = np.array(si)\n",
    "\n",
    "\n",
    "for i in range(len(info_numpy)):\n",
    "\n",
    "    label = info_numpy[i][0]\n",
    "    pred = info_numpy[i][1]\n",
    "\n",
    "    fileidx = info_numpy[i][4]\n",
    "\n",
    "    filename = si_numpy[int(fileidx)][2]\n",
    "\n",
    "\n",
    "    idx = info_numpy[i][5]\n",
    "\n",
    "\n",
    "    data = h5py.File(filename,'r')\n",
    "\n",
    "    dT = data['events']['dT'][idx]\n",
    "    dVertex = data['events']['dVertex'][idx]\n",
    "    vertexX = data['events']['vertexX'][idx]\n",
    "    vertexY = data['events']['vertexY'][idx]\n",
    "    vertexZ = data['events']['vertexZ'][idx]\n",
    "\n",
    "\n",
    "    preds.append(pred)\n",
    "    labels.append(label)\n",
    "    dVertexs.append(dVertex)\n",
    "    dTs.append(dT)\n",
    "#     print(dTs.type)\n",
    "    vertexXs.append(vertexX)\n",
    "    vertexYs.append(vertexY)\n",
    "    vertexZs.append(vertexZ)\n",
    "\n",
    "\n",
    "\n",
    "\n",
    "\n",
    "preds = np.array(preds)\n",
    "labels = np.array(labels)\n",
    "dVertexs = np.array(dVertexs)\n",
    "dTs = np.array(dTs)\n",
    "vertexXs = np.array(vertexXs)\n",
    "vertexYs = np.array(vertexYs)\n",
    "vertexZs = np.array(vertexZs)\n",
    "\n",
    "\n",
    "ME_label = []\n",
    "ME_dVertex = []\n",
    "ME_dT = []\n",
    "ME_vertexX = []\n",
    "ME_vertexY = []\n",
    "ME_vertexZ = []\n",
    "ME_pred = []\n",
    "\n",
    "\n",
    "FN_label = []\n",
    "FN_dVertex = []\n",
    "FN_dT = []\n",
    "FN_vertexX = []\n",
    "FN_vertexY = []\n",
    "FN_vertexZ = []\n",
    "FN_pred = []\n",
    "\n",
    "for i in range(len(preds)):\n",
    "    if labels[i] == 1:\n",
    "        ME_label.append(labels[i])\n",
    "        ME_dVertex.append(dVertexs[i])\n",
    "        ME_dT.append(dTs[i])\n",
    "        ME_vertexX.append(vertexXs[i])\n",
    "        ME_vertexY.append(vertexYs[i])\n",
    "        ME_vertexZ.append(vertexZs[i])\n",
    "        ME_pred.append(preds[i])\n",
    "    else:\n",
    "\n",
    "        FN_label.append(labels[i])\n",
    "        FN_dVertex.append(dVertexs[i])\n",
    "        FN_dT.append(dTs[i])\n",
    "        FN_vertexX.append(vertexXs[i])\n",
    "        FN_vertexY.append(vertexYs[i])\n",
    "        FN_vertexZ.append(vertexZs[i])\n",
    "        FN_pred.append(preds[i])\n",
    "\n",
    "ME_sig = -np.log((1/np.array(ME_pred))-1)\n",
    "FN_sig = -np.log((1/np.array(FN_pred))-1)\n",
    "FN_over_0 = 100*np.sum(FN_sig > 0)/len(FN_sig)\n",
    "ME_under_0 = 100*np.sum(ME_sig < 0)/len(ME_sig)\n",
    "\n",
    "list_range = np.arange(0,1,0.0001)\n",
    "\n",
    "\n",
    "# for i in range(len(list_range)):\n",
    "#     a = len(np.array(ME_pred)[np.array(ME_pred)>list_range[i]])/len(np.array(ME_pred))\n",
    "#     b = len(np.array(FN_pred)[np.array(FN_pred)<list_range[i]])/len(np.array(FN_pred))\n",
    "# #     print(list_range[i])\n",
    "\n",
    "#     if (a > 0.99):\n",
    "\n",
    "#         eff_99 = list_range[i]\n",
    "\n",
    "\n",
    "#     if (a > 0.95):\n",
    "\n",
    "#         eff_95 = list_range[i]\n",
    "\n",
    "\n",
    "#     if (a > 0.90):\n",
    "\n",
    "#         eff_90 = list_range[i]\n",
    "\n",
    "\n",
    "# #     \n",
    "#     if ((0.903 > b)&(b > 0.897)):\n",
    "\n",
    "#         eff_90_range = list_range[i]\n",
    "\n",
    "\n",
    "#     if ((0.953 > b) & (b > 0.947)):\n",
    "# #         if (b < 0.95):\n",
    "\n",
    "#         eff_95_range = list_range[i]\n",
    "\n",
    "\n",
    "#     if ((0.993 > b) & (b > 0.987)):\n",
    "# #         if (b < 0.99):\n",
    "#         eff_99_range = list_range[i]\n",
    "\n",
    "# ##### eff 0.5 pred\n",
    "# eff_50_ME = len(np.array(ME_pred)[np.array(ME_pred)>0.5])/len(np.array(ME_pred))\n",
    "# eff_50_FN = len(np.array(FN_pred)[np.array(FN_pred)>0.5])/len(np.array(FN_pred))\n",
    "# num_50_ME = num_ME*len(np.array(ME_pred)[np.array(ME_pred)>0.5])/len(np.array(ME_pred))\n",
    "# num_50_FN = num_FN*len(np.array(FN_pred)[np.array(FN_pred)>0.5])/len(np.array(FN_pred))\n",
    "\n",
    "\n",
    "\n",
    "# ##### eff 99% efficient\n",
    "# eff_99_ME = len(np.array(ME_pred)[np.array(ME_pred)>eff_99])/len(np.array(ME_pred))\n",
    "# eff_99_FN = len(np.array(FN_pred)[np.array(FN_pred)>eff_99])/len(np.array(FN_pred))\n",
    "# num_99_ME = num_ME*len(np.array(ME_pred)[np.array(ME_pred)>eff_99])/len(np.array(ME_pred))\n",
    "# num_99_FN = num_FN*len(np.array(FN_pred)[np.array(FN_pred)>eff_99])/len(np.array(FN_pred))\n",
    "\n",
    "\n",
    "\n",
    "\n",
    "# ##### eff 95% efficient\n",
    "# eff_95_ME = len(np.array(ME_pred)[np.array(ME_pred)>eff_95])/len(np.array(ME_pred))\n",
    "# eff_95_FN = len(np.array(FN_pred)[np.array(FN_pred)>eff_95])/len(np.array(FN_pred))\n",
    "# num_95_ME = num_ME*len(np.array(ME_pred)[np.array(ME_pred)>eff_95])/len(np.array(ME_pred))\n",
    "# num_95_FN = num_FN*len(np.array(FN_pred)[np.array(FN_pred)>eff_95])/len(np.array(FN_pred))\n",
    "\n",
    "\n",
    "# ##### eff 90% efficient\n",
    "# eff_90_ME = len(np.array(ME_pred)[np.array(ME_pred)>eff_90])/len(np.array(ME_pred))\n",
    "# eff_90_FN = len(np.array(FN_pred)[np.array(FN_pred)>eff_90])/len(np.array(FN_pred))\n",
    "# num_90_ME = num_ME*len(np.array(ME_pred)[np.array(ME_pred)>eff_90])/len(np.array(ME_pred))\n",
    "# num_90_FN = num_FN*len(np.array(FN_pred)[np.array(FN_pred)>eff_90])/len(np.array(FN_pred))\n",
    "\n",
    "\n",
    "\n",
    "\n",
    "# ##### eff 99%_FN efficient\n",
    "# eff_99_ME_FN = len(np.array(ME_pred)[np.array(ME_pred)<eff_99_range])/len(np.array(ME_pred))\n",
    "# eff_99_FN_FN = len(np.array(FN_pred)[np.array(FN_pred)<eff_99_range])/len(np.array(FN_pred))\n",
    "# num_99_ME_FN = num_ME*len(np.array(ME_pred)[np.array(ME_pred)<eff_99_range])/len(np.array(ME_pred))\n",
    "# num_99_FN_FN = num_FN*len(np.array(FN_pred)[np.array(FN_pred)<eff_99_range])/len(np.array(FN_pred))\n",
    "\n",
    "\n",
    "# ##### eff 95%_FN efficient\n",
    "# eff_95_ME_FN = len(np.array(ME_pred)[np.array(ME_pred)<eff_95_range])/len(np.array(ME_pred))\n",
    "# eff_95_FN_FN = len(np.array(FN_pred)[np.array(FN_pred)<eff_95_range])/len(np.array(FN_pred))\n",
    "# num_95_ME_FN = num_ME*len(np.array(ME_pred)[np.array(ME_pred)<eff_95_range])/len(np.array(ME_pred))\n",
    "# num_95_FN_FN = num_FN*len(np.array(FN_pred)[np.array(FN_pred)<eff_95_range])/len(np.array(FN_pred))\n",
    "\n",
    "\n",
    "# ##### eff 90%_FN efficient\n",
    "# eff_90_ME_FN = len(np.array(ME_pred)[np.array(ME_pred)<eff_90_range])/len(np.array(ME_pred))\n",
    "# eff_90_FN_FN = len(np.array(FN_pred)[np.array(FN_pred)<eff_90_range])/len(np.array(FN_pred))\n",
    "# num_90_ME_FN = num_ME*len(np.array(ME_pred)[np.array(ME_pred)<eff_90_range])/len(np.array(ME_pred))\n",
    "# num_90_FN_FN = num_FN*len(np.array(FN_pred)[np.array(FN_pred)<eff_90_range])/len(np.array(FN_pred))\n",
    "\n",
    "\n"
   ]
  },
  {
   "cell_type": "code",
   "execution_count": 28,
   "metadata": {},
   "outputs": [
    {
     "name": "stdout",
     "output_type": "stream",
     "text": [
      "0.9365139980968599 ME\n",
      "0.9213048855905999 FN\n"
     ]
    }
   ],
   "source": [
    "list_range = 0.387\n",
    "a = len(np.array(ME_pred)[np.array(ME_pred)>list_range])/len(np.array(ME_pred))\n",
    "b = len(np.array(FN_pred)[np.array(FN_pred)<list_range])/len(np.array(FN_pred))\n",
    "\n",
    "print(a,'ME')\n",
    "print(b,'FN')"
   ]
  },
  {
   "cell_type": "code",
   "execution_count": 30,
   "metadata": {},
   "outputs": [
    {
     "data": {
      "text/plain": [
       "0.28227161340854623"
      ]
     },
     "execution_count": 30,
     "metadata": {},
     "output_type": "execute_result"
    }
   ],
   "source": [
    "nerror(92.13,9100 )"
   ]
  }
 ],
 "metadata": {
  "kernelspec": {
   "display_name": "Python 3",
   "language": "python",
   "name": "python3"
  },
  "language_info": {
   "codemirror_mode": {
    "name": "ipython",
    "version": 3
   },
   "file_extension": ".py",
   "mimetype": "text/x-python",
   "name": "python",
   "nbconvert_exporter": "python",
   "pygments_lexer": "ipython3",
   "version": "3.7.9"
  }
 },
 "nbformat": 4,
 "nbformat_minor": 4
}
