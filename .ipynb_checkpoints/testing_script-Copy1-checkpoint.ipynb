{
 "cells": [
  {
   "cell_type": "code",
   "execution_count": 1,
   "metadata": {},
   "outputs": [],
   "source": [
    "import uproot\n",
    "import numpy as np\n",
    "import os"
   ]
  },
  {
   "cell_type": "code",
   "execution_count": 2,
   "metadata": {},
   "outputs": [],
   "source": [
    "runnum = [1614, 1598, 1621, 1635, 1679, 1680, 1687, 1693, 1694, 1695, 1711, 1719, 1770, 1784, 1796, 1799, 1797, 1798, 1596, 1597, 1598, 1599, 1600, 1606, 1608, 1609, 1614, 1621, 1623, 1624, 1625, 1626, 1627, 1628, 1629, 1630, 1631, 1632, 1633, 1634, 1635, 1636, 1637, 1638, 1639, 1640, 1641, 1642, 1643, 1644, 1645, 1646, 1647, 1648, 1649, 1650, 1651, 1652, 1653, 1654, 1655, 1656, 1657, 1658, 1659, 1660, 1661, 1662, 1663, 1664, 1665, 1666, 1667, 1668, 1669, 1671, 1672, 1673, 1674, 1675, 1676, 1677, 1678, 1679, 1680, 1681, 1682, 1683, 1684, 1685, 1686, 1687, 1689, 1692, 1693, 1694, 1695, 1711, 1716, 1717, 1718, 1719, 1722, 1724, 1725, 1726, 1727, 1728, 1729, 1732, 1749, 1750, 1759, 1760, 1761, 1762, 1763, 1766, 1767, 1768, 1769, 1770, 1784, 1785, 1787, 1788, 1789, 1790, 1795, 1796, 1797, 1798, 1799, 1807, 1809, 1810, 1811, 1812, 1813, 1814, 1815, 1817, 1818, 1819, 1821, 1826, 1828, 1829, 1830, 1831, 1832, 1833, 1835, 1836, 1837, 1838, 1839, 1843, 1849, 1850, 1851, 1852, 1853, 1854, 1859, 1864, 1865, 1867, 1868, 1870, 1872, 1873, 1874, 1875, 1876, 1877, 1878, 1879, 1880, 1891, 1909, 1910, 1911, 1912, 1913, 1914, 1915, 1916, 1917, 1918, 1919, 1920, 1921, 1922, 1923, 1924, 1925, 1926, 1928, 1930, 1932, 1933, 1934, 1935, 1936, 1937, 1939, 1940, 1941, 1942, 1943, 1944, 1945, 1948, 1949, 1950, 1952]"
   ]
  },
  {
   "cell_type": "code",
   "execution_count": null,
   "metadata": {},
   "outputs": [],
   "source": []
  },
  {
   "cell_type": "code",
   "execution_count": 3,
   "metadata": {},
   "outputs": [],
   "source": [
    "run_num = []\n",
    "FN_num = []\n",
    "ME_num = []\n",
    "FN_rej = []\n",
    "ME_eff = []\n",
    "AUC = []\n",
    "\n",
    "for j in runnum:\n",
    "\n",
    "    if os.path.exists('result/eval_'+str(j)+'_model_r01592_R14_Z10_nolog/eval_'+str(j)+'_model_r01592_R14_Z10_nolog_information.txt') == True:\n",
    "        f = open('result/eval_'+str(j)+'_model_r01592_R14_Z10_nolog/eval_'+str(j)+'_model_r01592_R14_Z10_nolog_information.txt', 'r')\n",
    "        lines = f.readlines()\n",
    "    #     for line in lines:\n",
    "    #         print(line)\n",
    "        run_num.append(j)\n",
    "#         print(lines)\n",
    "#         print(float(lines[-2].split(' ')[-2]))\n",
    "#         print(float(lines[-2].split(' ')[-1][:-1]))\n",
    "#         print(j)\n",
    "        FN_num.append(float(lines[-2].split(' ')[-2]))        #### FN num\n",
    "        ME_num.append(float(lines[-2].split(' ')[-1][:-1]))   #### ME num\n",
    "        ME_eff.append(float(lines[0].split(' ')[-1][:-2])*100)  #### ME effi\n",
    "        FN_rej.append((1-float(lines[1].split(' ')[-1][:-2]))*100)    #### FN rej\n",
    "        AUC.append(float(lines[-1][:-2]))                       #### AUC\n",
    "        f.close()\n",
    "    "
   ]
  },
  {
   "cell_type": "code",
   "execution_count": 4,
   "metadata": {},
   "outputs": [],
   "source": [
    "def nerror(eff,N):\n",
    "    y = np.sqrt(((100-eff)/100)*(eff/100)/N)\n",
    "    return y"
   ]
  },
  {
   "cell_type": "code",
   "execution_count": 5,
   "metadata": {},
   "outputs": [],
   "source": [
    "def nnerror(eff,N):\n",
    "    y = np.sqrt((100-eff)*eff/N)\n",
    "    return y"
   ]
  },
  {
   "cell_type": "code",
   "execution_count": 6,
   "metadata": {},
   "outputs": [],
   "source": [
    "import matplotlib.pyplot as plt"
   ]
  },
  {
   "cell_type": "code",
   "execution_count": 7,
   "metadata": {},
   "outputs": [
    {
     "data": {
      "image/png": "[encoded data removed]",
      "text/plain": [
       "<Figure size 432x288 with 1 Axes>"
      ]
     },
     "metadata": {
      "needs_background": "light"
     },
     "output_type": "display_data"
    }
   ],
   "source": [
    "plt.plot(np.array(run_num),np.array(AUC),'r.',label='AUC')\n",
    "plt.hlines(np.average(np.array(AUC)),1580,1950,color = 'blue',label='AUC average')\n",
    "\n",
    "plt.ylim([0.95,1.02])\n",
    "plt.hlines(0.982,1580,1950,color='black',label='AUC = 0.982')\n",
    "plt.legend()\n",
    "plt.ylabel('AUC',fontsize = 15)\n",
    "plt.xlabel('runnum',fontsize = 15)\n",
    "\n",
    "plt.show()"
   ]
  },
  {
   "cell_type": "code",
   "execution_count": 8,
   "metadata": {},
   "outputs": [
    {
     "data": {
      "text/plain": [
       "[90.9090909090909,\n",
       " 97.860962566845,\n",
       " 97.5609756097561,\n",
       " 100.0,\n",
       " 94.86166007905139,\n",
       " 85.71428571428572,\n",
       " 96.1904761904762,\n",
       " 95.77464788732395,\n",
       " 100.0,\n",
       " 100.0,\n",
       " 100.0,\n",
       " 90.9090909090909,\n",
       " 100.0,\n",
       " 97.860962566845,\n",
       " 92.3076923076923,\n",
       " 94.89795918367348,\n",
       " 95.10204081632654,\n",
       " 90.9090909090909,\n",
       " 97.72727272727273,\n",
       " 100.0,\n",
       " 91.66666666666667,\n",
       " 97.59036144578313,\n",
       " 100.0,\n",
       " 97.5609756097561,\n",
       " 100.0,\n",
       " 97.22222222222221,\n",
       " 93.33333333333333,\n",
       " 96.42857142857143,\n",
       " 92.59259259259261,\n",
       " 97.46835443037976,\n",
       " 96.7741935483871,\n",
       " 96.42857142857143,\n",
       " 100.0,\n",
       " 91.83673469387756,\n",
       " 100.0,\n",
       " 96.42857142857143,\n",
       " 97.14285714285715,\n",
       " 90.19607843137256,\n",
       " 100.0,\n",
       " 98.13084112149532,\n",
       " 80.0,\n",
       " 100.0,\n",
       " 100.0,\n",
       " 100.0,\n",
       " 100.0,\n",
       " 100.0,\n",
       " 80.0,\n",
       " 100.0,\n",
       " 100.0,\n",
       " 77.7777777777778,\n",
       " 88.0,\n",
       " 100.0,\n",
       " 100.0,\n",
       " 97.54901960784314,\n",
       " 91.11111111111111,\n",
       " 86.66666666666667,\n",
       " 98.0891719745223,\n",
       " 92.98245614035088,\n",
       " 100.0,\n",
       " 94.23868312757202,\n",
       " 97.9381443298969,\n",
       " 100.0,\n",
       " 94.86166007905139,\n",
       " 85.71428571428572,\n",
       " 100.0,\n",
       " 96.1904761904762,\n",
       " 100.0,\n",
       " 96.3855421686747,\n",
       " 97.35099337748345,\n",
       " 96.72131147540985,\n",
       " 92.98245614035088,\n",
       " 100.0,\n",
       " 96.82539682539682,\n",
       " 96.90721649484536,\n",
       " 69.2307692307693,\n",
       " 95.77464788732395,\n",
       " 100.0,\n",
       " 95.83333333333334,\n",
       " 80.0,\n",
       " 100.0,\n",
       " 100.0,\n",
       " 90.9090909090909,\n",
       " 98.66666666666667,\n",
       " 100.0,\n",
       " 100.0,\n",
       " 100.0,\n",
       " 100.0,\n",
       " 95.55555555555556,\n",
       " 100.0,\n",
       " 100.0,\n",
       " 96.2962962962963,\n",
       " 94.69026548672566,\n",
       " 93.10344827586206,\n",
       " 100.0,\n",
       " 95.04950495049505,\n",
       " 94.64285714285715,\n",
       " 93.33333333333333,\n",
       " 100.0,\n",
       " 100.0,\n",
       " 100.0,\n",
       " 100.0,\n",
       " 95.78947368421052,\n",
       " 100.0,\n",
       " 97.12643678160919,\n",
       " 96.69421487603306,\n",
       " 96.42857142857143,\n",
       " 95.28301886792453,\n",
       " 100.0,\n",
       " 100.0,\n",
       " 95.33333333333334,\n",
       " 97.22222222222221,\n",
       " 97.74436090225565,\n",
       " 92.3076923076923,\n",
       " 97.36842105263158,\n",
       " 97.36842105263158,\n",
       " 95.14563106796116,\n",
       " 100.0,\n",
       " 100.0,\n",
       " 100.0,\n",
       " 96.15384615384616,\n",
       " 100.0]"
      ]
     },
     "execution_count": 8,
     "metadata": {},
     "output_type": "execute_result"
    }
   ],
   "source": [
    "FN_rej"
   ]
  },
  {
   "cell_type": "code",
   "execution_count": 9,
   "metadata": {},
   "outputs": [
    {
     "data": {
      "image/png": "[encoded data removed]",
      "text/plain": [
       "<Figure size 432x288 with 1 Axes>"
      ]
     },
     "metadata": {
      "needs_background": "light"
     },
     "output_type": "display_data"
    }
   ],
   "source": [
    "plt.plot(np.array(run_num),np.array(FN_rej),'r.',label='FN rejection')\n",
    "plt.hlines(np.average(np.array(FN_rej)),1580,1950,color = 'blue',label='FN rejection average')\n",
    "\n",
    "plt.ylim([65.0,102.0])\n",
    "plt.hlines(94.96,1580,1950,color='black',label='FN rejection=94.96')\n",
    "plt.legend()\n",
    "plt.ylabel('FN rejection',fontsize = 15)\n",
    "plt.xlabel('runnum',fontsize = 15)\n",
    "\n",
    "plt.show()"
   ]
  },
  {
   "cell_type": "code",
   "execution_count": 10,
   "metadata": {},
   "outputs": [
    {
     "data": {
      "image/png": "[encoded data removed]",
      "text/plain": [
       "<Figure size 432x288 with 1 Axes>"
      ]
     },
     "metadata": {
      "needs_background": "light"
     },
     "output_type": "display_data"
    }
   ],
   "source": [
    "plt.errorbar(np.array(run_num),np.array(FN_rej),yerr=nnerror(np.array(FN_rej),np.array(FN_num)),color='r',fmt='.',label='FN rejection')\n",
    "plt.hlines(np.average(np.array(FN_rej)),1580,1950,color = 'blue',label='FN rejection average')\n",
    "\n",
    "plt.ylim([65.0,102.0])\n",
    "plt.hlines(94.96,1580,1950,color='black',label='FN rejection=94.96')\n",
    "plt.legend(loc='lower right')\n",
    "plt.ylabel('FN rejection',fontsize = 15)\n",
    "plt.xlabel('runnum',fontsize = 15)\n",
    "\n",
    "plt.show()"
   ]
  },
  {
   "cell_type": "code",
   "execution_count": 11,
   "metadata": {},
   "outputs": [
    {
     "data": {
      "image/png": "[encoded data removed]",
      "text/plain": [
       "<Figure size 432x288 with 1 Axes>"
      ]
     },
     "metadata": {
      "needs_background": "light"
     },
     "output_type": "display_data"
    }
   ],
   "source": [
    "plt.plot(np.array(run_num),np.array(ME_eff),'r.',label='ME efficiency')\n",
    "plt.hlines(np.average(np.array(ME_eff)),1580,1950,color = 'blue',label='ME efficiency average')\n",
    "\n",
    "plt.ylim([80,102])\n",
    "plt.hlines(93.64,1580,1950,color='black',label='ME efficiecncy = 93.64')\n",
    "plt.ylabel('ME efficiency',fontsize = 15)\n",
    "plt.xlabel('runnum',fontsize = 15)\n",
    "plt.legend()\n",
    "\n",
    "plt.show()"
   ]
  },
  {
   "cell_type": "code",
   "execution_count": 12,
   "metadata": {},
   "outputs": [
    {
     "data": {
      "image/png": "[encoded data removed]",
      "text/plain": [
       "<Figure size 432x288 with 1 Axes>"
      ]
     },
     "metadata": {
      "needs_background": "light"
     },
     "output_type": "display_data"
    }
   ],
   "source": [
    "plt.hlines(np.average(np.array(ME_eff)),1580,1950,color = 'blue',label='ME efficiency average')\n",
    "\n",
    "plt.errorbar(np.array(run_num),np.array(ME_eff),yerr=nnerror(np.array(ME_eff),np.array(ME_num)),color='r',fmt='.',label='ME rejection')\n",
    "\n",
    "plt.ylim([80,102])\n",
    "plt.hlines(93.64,1580,1950,color='black',label='ME efficiecncy = 93.64')\n",
    "plt.ylabel('ME efficiency',fontsize = 15)\n",
    "plt.xlabel('runnum',fontsize = 15)\n",
    "plt.legend()\n",
    "\n",
    "plt.show()"
   ]
  },
  {
   "cell_type": "code",
   "execution_count": 13,
   "metadata": {},
   "outputs": [
    {
     "name": "stdout",
     "output_type": "stream",
     "text": [
      "121\n",
      "121\n"
     ]
    }
   ],
   "source": [
    "print(len(np.array(run_num)))\n",
    "print(len(np.array(AUC)))"
   ]
  },
  {
   "cell_type": "code",
   "execution_count": 14,
   "metadata": {},
   "outputs": [
    {
     "data": {
      "text/plain": [
       "0.9826936635937815"
      ]
     },
     "execution_count": 14,
     "metadata": {},
     "output_type": "execute_result"
    }
   ],
   "source": [
    "np.average(AUC)"
   ]
  },
  {
   "cell_type": "code",
   "execution_count": 15,
   "metadata": {},
   "outputs": [
    {
     "data": {
      "text/plain": [
       "array([0.0612909 , 0.01058018, 0.01204548, 0.        , 0.01388023,\n",
       "       0.09352195, 0.01320966, 0.02387413, 0.        , 0.        ,\n",
       "       0.        , 0.08667842, 0.        , 0.01058018, 0.0739053 ,\n",
       "       0.0157171 , 0.01378858, 0.0612909 , 0.02246752, 0.        ,\n",
       "       0.05641693, 0.01190215, 0.        , 0.01204548, 0.        ,\n",
       "       0.02738926, 0.045542  , 0.01568411, 0.02520051, 0.01249697,\n",
       "       0.02243898, 0.02479875, 0.        , 0.03911489, 0.        ,\n",
       "       0.02479875, 0.01991234, 0.0416398 , 0.        , 0.01309284,\n",
       "       0.14142136, 0.        , 0.        , 0.        , 0.        ,\n",
       "       0.        , 0.14142136, 0.        , 0.        , 0.1385799 ,\n",
       "       0.11489125, 0.        , 0.        , 0.01082596, 0.04242317,\n",
       "       0.06206329, 0.01092626, 0.01953417, 0.        , 0.01494763,\n",
       "       0.01442843, 0.        , 0.01388023, 0.09352195, 0.        ,\n",
       "       0.01320966, 0.        , 0.01448683, 0.00924077, 0.0228006 ,\n",
       "       0.02392438, 0.        , 0.02208865, 0.0175779 , 0.12800774,\n",
       "       0.02387413, 0.        , 0.04078938, 0.1       , 0.        ,\n",
       "       0.        , 0.08667842, 0.00936503, 0.        , 0.        ,\n",
       "       0.        , 0.        , 0.03072065, 0.        , 0.        ,\n",
       "       0.03634469, 0.0149154 , 0.04705436, 0.        , 0.02158433,\n",
       "       0.02127657, 0.045542  , 0.        , 0.        , 0.        ,\n",
       "       0.        , 0.02060465, 0.        , 0.01266498, 0.01149291,\n",
       "       0.01753537, 0.01456035, 0.        , 0.        , 0.01722186,\n",
       "       0.0158132 , 0.01287523, 0.03695265, 0.01499218, 0.01499218,\n",
       "       0.02117592, 0.        , 0.        , 0.        , 0.01539694,\n",
       "       0.        ])"
      ]
     },
     "execution_count": 15,
     "metadata": {},
     "output_type": "execute_result"
    }
   ],
   "source": [
    "nerror(np.array(FN_rej),np.array(FN_num))"
   ]
  },
  {
   "cell_type": "code",
   "execution_count": 16,
   "metadata": {},
   "outputs": [
    {
     "data": {
      "text/plain": [
       "array([ 6.12908966,  1.05801818,  1.20454829,  0.        ,  1.38802253,\n",
       "        9.3521953 ,  1.32096629,  2.38741303,  0.        ,  0.        ,\n",
       "        0.        ,  8.66784172,  0.        ,  1.05801818,  7.39053018,\n",
       "        1.57170981,  1.37885773,  6.12908966,  2.24675239,  0.        ,\n",
       "        5.64169334,  1.19021487,  0.        ,  1.20454829,  0.        ,\n",
       "        2.73892583,  4.55420034,  1.56841083,  2.52005118,  1.249697  ,\n",
       "        2.24389788,  2.47987527,  0.        ,  3.91148917,  0.        ,\n",
       "        2.47987527,  1.99123444,  4.16398018,  0.        ,  1.30928436,\n",
       "       14.14213562,  0.        ,  0.        ,  0.        ,  0.        ,\n",
       "        0.        , 14.14213562,  0.        ,  0.        , 13.85799032,\n",
       "       11.48912529,  0.        ,  0.        ,  1.08259568,  4.24231735,\n",
       "        6.20632891,  1.09262595,  1.95341725,  0.        ,  1.49476303,\n",
       "        1.44284341,  0.        ,  1.38802253,  9.3521953 ,  0.        ,\n",
       "        1.32096629,  0.        ,  1.4486834 ,  0.92407718,  2.28005987,\n",
       "        2.39243776,  0.        ,  2.20886458,  1.75778985, 12.80077376,\n",
       "        2.38741303,  0.        ,  4.07893754, 10.        ,  0.        ,\n",
       "        0.        ,  8.66784172,  0.93650256,  0.        ,  0.        ,\n",
       "        0.        ,  0.        ,  3.07206539,  0.        ,  0.        ,\n",
       "        3.63446949,  1.49153982,  4.70543613,  0.        ,  2.15843293,\n",
       "        2.12765655,  4.55420034,  0.        ,  0.        ,  0.        ,\n",
       "        0.        ,  2.0604652 ,  0.        ,  1.26649792,  1.14929065,\n",
       "        1.75353662,  1.45603526,  0.        ,  0.        ,  1.72218638,\n",
       "        1.58131956,  1.28752254,  3.69526509,  1.49921818,  1.49921818,\n",
       "        2.11759159,  0.        ,  0.        ,  0.        ,  1.53969379,\n",
       "        0.        ])"
      ]
     },
     "execution_count": 16,
     "metadata": {},
     "output_type": "execute_result"
    }
   ],
   "source": [
    "nnerror(np.array(FN_rej),np.array(FN_num))"
   ]
  },
  {
   "cell_type": "code",
   "execution_count": 17,
   "metadata": {},
   "outputs": [
    {
     "data": {
      "text/plain": [
       "array([0.00936002, 0.0034537 , 0.00351215, 0.01041739, 0.00305605,\n",
       "       0.01101022, 0.00298792, 0.00577987, 0.00822875, 0.01379411,\n",
       "       0.01804324, 0.01686942, 0.01115177, 0.0034537 , 0.01238212,\n",
       "       0.00391212, 0.00408383, 0.00936002, 0.00657007, 0.05067446,\n",
       "       0.01185622, 0.00394284, 0.01223457, 0.00351215, 0.011417  ,\n",
       "       0.00779283, 0.01208975, 0.00449719, 0.00509522, 0.00423496,\n",
       "       0.00649139, 0.00665607, 0.01586033, 0.00723692, 0.0089454 ,\n",
       "       0.00589266, 0.00555988, 0.00819227, 0.03923466, 0.00490518,\n",
       "       0.02565661, 0.01990455, 0.02295784, 0.01418331, 0.01193008,\n",
       "       0.01838102, 0.01885663, 0.02317406, 0.01296755, 0.01322986,\n",
       "       0.02898235, 0.01806025, 0.03078165, 0.00335054, 0.00611178,\n",
       "       0.00658878, 0.00414954, 0.00335574, 0.01041739, 0.00329804,\n",
       "       0.0051473 , 0.01482931, 0.00305605, 0.01101022, 0.01039449,\n",
       "       0.00298792, 0.01399053, 0.00417186, 0.00338158, 0.00740406,\n",
       "       0.00528007, 0.00966149, 0.00681097, 0.00503158, 0.01395505,\n",
       "       0.00577987, 0.00822875, 0.00856106, 0.01495933, 0.01379411,\n",
       "       0.01804324, 0.01686942, 0.0075865 , 0.0434986 , 0.0115454 ,\n",
       "       0.01037609, 0.00933696, 0.00765261, 0.02177984, 0.012831  ,\n",
       "       0.00833024, 0.00338889, 0.01011167, 0.0137921 , 0.00405214,\n",
       "       0.00493327, 0.00959783, 0.022586  , 0.01287063, 0.01871562,\n",
       "       0.00949809, 0.00679366, 0.01677612, 0.0052763 , 0.00341658,\n",
       "       0.00629385, 0.00355508, 0.01540067, 0.00767854, 0.00603993,\n",
       "       0.00678752, 0.00592197, 0.00934961, 0.00660835, 0.00717938,\n",
       "       0.00723842, 0.01209644, 0.01262611, 0.01933946, 0.00520044,\n",
       "       0.01085973])"
      ]
     },
     "execution_count": 17,
     "metadata": {},
     "output_type": "execute_result"
    }
   ],
   "source": [
    "nerror(np.array(ME_eff),np.array(ME_num))"
   ]
  },
  {
   "cell_type": "code",
   "execution_count": 18,
   "metadata": {},
   "outputs": [
    {
     "data": {
      "text/plain": [
       "array([0.93600151, 0.34536955, 0.35121514, 1.04173888, 0.30560521,\n",
       "       1.101022  , 0.29879187, 0.57798749, 0.82287451, 1.37941111,\n",
       "       1.80432355, 1.68694221, 1.11517653, 0.34536955, 1.2382116 ,\n",
       "       0.3912119 , 0.40838263, 0.93600151, 0.65700724, 5.06744633,\n",
       "       1.18562154, 0.39428394, 1.22345731, 0.35121514, 1.14170009,\n",
       "       0.77928279, 1.20897463, 0.44971912, 0.50952223, 0.423496  ,\n",
       "       0.64913932, 0.66560678, 1.58603335, 0.72369249, 0.89454028,\n",
       "       0.58926555, 0.55598756, 0.81922672, 3.92346607, 0.4905185 ,\n",
       "       2.56566077, 1.9904545 , 2.29578418, 1.41833064, 1.19300824,\n",
       "       1.83810232, 1.88566298, 2.31740596, 1.29675504, 1.32298568,\n",
       "       2.89823532, 1.80602476, 3.07816453, 0.33505378, 0.61117828,\n",
       "       0.65887839, 0.41495448, 0.33557416, 1.04173888, 0.32980388,\n",
       "       0.51473039, 1.48293079, 0.30560521, 1.101022  , 1.03944877,\n",
       "       0.29879187, 1.39905268, 0.41718643, 0.33815838, 0.74040567,\n",
       "       0.5280067 , 0.96614931, 0.6810967 , 0.50315841, 1.39550531,\n",
       "       0.57798749, 0.82287451, 0.85610597, 1.49593297, 1.37941111,\n",
       "       1.80432355, 1.68694221, 0.75864957, 4.34986009, 1.15454048,\n",
       "       1.03760854, 0.93369584, 0.76526139, 2.17798375, 1.28309964,\n",
       "       0.8330241 , 0.33888861, 1.01116691, 1.3792101 , 0.40521361,\n",
       "       0.493327  , 0.95978279, 2.25860013, 1.28706292, 1.87156218,\n",
       "       0.94980949, 0.67936622, 1.67761245, 0.52762991, 0.34165774,\n",
       "       0.6293845 , 0.35550822, 1.54006708, 0.76785365, 0.60399262,\n",
       "       0.6787518 , 0.59219702, 0.93496112, 0.66083512, 0.71793773,\n",
       "       0.72384158, 1.20964372, 1.26261137, 1.93394552, 0.52004357,\n",
       "       1.08597285])"
      ]
     },
     "execution_count": 18,
     "metadata": {},
     "output_type": "execute_result"
    }
   ],
   "source": [
    "nnerror(np.array(ME_eff),np.array(ME_num))"
   ]
  },
  {
   "cell_type": "code",
   "execution_count": 19,
   "metadata": {},
   "outputs": [
    {
     "data": {
      "text/plain": [
       "0.22884228867187684"
      ]
     },
     "execution_count": 19,
     "metadata": {},
     "output_type": "execute_result"
    }
   ],
   "source": [
    "nnerror(94.96,9139)"
   ]
  },
  {
   "cell_type": "code",
   "execution_count": 20,
   "metadata": {},
   "outputs": [
    {
     "data": {
      "text/plain": [
       "[1614,\n",
       " 1598,\n",
       " 1635,\n",
       " 1680,\n",
       " 1687,\n",
       " 1693,\n",
       " 1719,\n",
       " 1770,\n",
       " 1784,\n",
       " 1796,\n",
       " 1797,\n",
       " 1798,\n",
       " 1596,\n",
       " 1598,\n",
       " 1599,\n",
       " 1606,\n",
       " 1608,\n",
       " 1614,\n",
       " 1624,\n",
       " 1627,\n",
       " 1629,\n",
       " 1630,\n",
       " 1631,\n",
       " 1635,\n",
       " 1638,\n",
       " 1639,\n",
       " 1640,\n",
       " 1641,\n",
       " 1642,\n",
       " 1644,\n",
       " 1645,\n",
       " 1646,\n",
       " 1647,\n",
       " 1649,\n",
       " 1650,\n",
       " 1651,\n",
       " 1652,\n",
       " 1653,\n",
       " 1654,\n",
       " 1655,\n",
       " 1656,\n",
       " 1658,\n",
       " 1659,\n",
       " 1660,\n",
       " 1661,\n",
       " 1662,\n",
       " 1663,\n",
       " 1664,\n",
       " 1665,\n",
       " 1666,\n",
       " 1667,\n",
       " 1668,\n",
       " 1669,\n",
       " 1671,\n",
       " 1673,\n",
       " 1675,\n",
       " 1676,\n",
       " 1677,\n",
       " 1680,\n",
       " 1681,\n",
       " 1682,\n",
       " 1685,\n",
       " 1687,\n",
       " 1693,\n",
       " 1716,\n",
       " 1719,\n",
       " 1727,\n",
       " 1750,\n",
       " 1759,\n",
       " 1760,\n",
       " 1761,\n",
       " 1762,\n",
       " 1763,\n",
       " 1766,\n",
       " 1768,\n",
       " 1770,\n",
       " 1784,\n",
       " 1789,\n",
       " 1795,\n",
       " 1796,\n",
       " 1797,\n",
       " 1798,\n",
       " 1809,\n",
       " 1811,\n",
       " 1812,\n",
       " 1813,\n",
       " 1821,\n",
       " 1829,\n",
       " 1833,\n",
       " 1835,\n",
       " 1838,\n",
       " 1849,\n",
       " 1851,\n",
       " 1852,\n",
       " 1854,\n",
       " 1872,\n",
       " 1873,\n",
       " 1875,\n",
       " 1876,\n",
       " 1877,\n",
       " 1880,\n",
       " 1891,\n",
       " 1911,\n",
       " 1912,\n",
       " 1913,\n",
       " 1915,\n",
       " 1918,\n",
       " 1919,\n",
       " 1921,\n",
       " 1925,\n",
       " 1926,\n",
       " 1928,\n",
       " 1930,\n",
       " 1933,\n",
       " 1934,\n",
       " 1935,\n",
       " 1939,\n",
       " 1941,\n",
       " 1943,\n",
       " 1945,\n",
       " 1949]"
      ]
     },
     "execution_count": 20,
     "metadata": {},
     "output_type": "execute_result"
    }
   ],
   "source": [
    "run_num"
   ]
  },
  {
   "cell_type": "code",
   "execution_count": 21,
   "metadata": {},
   "outputs": [
    {
     "data": {
      "text/plain": [
       "[22.0,\n",
       " 187.0,\n",
       " 164.0,\n",
       " 16.0,\n",
       " 253.0,\n",
       " 14.0,\n",
       " 210.0,\n",
       " 71.0,\n",
       " 18.0,\n",
       " 16.0,\n",
       " 4.0,\n",
       " 11.0,\n",
       " 18.0,\n",
       " 187.0,\n",
       " 13.0,\n",
       " 196.0,\n",
       " 245.0,\n",
       " 22.0,\n",
       " 44.0,\n",
       " 4.0,\n",
       " 24.0,\n",
       " 166.0,\n",
       " 22.0,\n",
       " 164.0,\n",
       " 17.0,\n",
       " 36.0,\n",
       " 30.0,\n",
       " 140.0,\n",
       " 108.0,\n",
       " 158.0,\n",
       " 62.0,\n",
       " 56.0,\n",
       " 15.0,\n",
       " 49.0,\n",
       " 27.0,\n",
       " 56.0,\n",
       " 70.0,\n",
       " 51.0,\n",
       " 1.0,\n",
       " 107.0,\n",
       " 8.0,\n",
       " 6.0,\n",
       " 4.0,\n",
       " 3.0,\n",
       " 9.0,\n",
       " 8.0,\n",
       " 8.0,\n",
       " 5.0,\n",
       " 10.0,\n",
       " 9.0,\n",
       " 8.0,\n",
       " 13.0,\n",
       " 2.0,\n",
       " 204.0,\n",
       " 45.0,\n",
       " 30.0,\n",
       " 157.0,\n",
       " 171.0,\n",
       " 16.0,\n",
       " 243.0,\n",
       " 97.0,\n",
       " 10.0,\n",
       " 253.0,\n",
       " 14.0,\n",
       " 22.0,\n",
       " 210.0,\n",
       " 20.0,\n",
       " 166.0,\n",
       " 302.0,\n",
       " 61.0,\n",
       " 114.0,\n",
       " 9.0,\n",
       " 63.0,\n",
       " 97.0,\n",
       " 13.0,\n",
       " 71.0,\n",
       " 18.0,\n",
       " 24.0,\n",
       " 16.0,\n",
       " 16.0,\n",
       " 4.0,\n",
       " 11.0,\n",
       " 150.0,\n",
       " 4.0,\n",
       " 48.0,\n",
       " 60.0,\n",
       " 34.0,\n",
       " 45.0,\n",
       " 7.0,\n",
       " 25.0,\n",
       " 27.0,\n",
       " 226.0,\n",
       " 29.0,\n",
       " 7.0,\n",
       " 101.0,\n",
       " 112.0,\n",
       " 30.0,\n",
       " 4.0,\n",
       " 23.0,\n",
       " 10.0,\n",
       " 50.0,\n",
       " 95.0,\n",
       " 20.0,\n",
       " 174.0,\n",
       " 242.0,\n",
       " 112.0,\n",
       " 212.0,\n",
       " 17.0,\n",
       " 52.0,\n",
       " 150.0,\n",
       " 108.0,\n",
       " 133.0,\n",
       " 52.0,\n",
       " 114.0,\n",
       " 114.0,\n",
       " 103.0,\n",
       " 31.0,\n",
       " 21.0,\n",
       " 10.0,\n",
       " 156.0,\n",
       " 43.0]"
      ]
     },
     "execution_count": 21,
     "metadata": {},
     "output_type": "execute_result"
    }
   ],
   "source": [
    "FN_num"
   ]
  },
  {
   "cell_type": "code",
   "execution_count": 22,
   "metadata": {
    "scrolled": false
   },
   "outputs": [
    {
     "data": {
      "text/plain": [
       "array([[1614., 1598., 1635., 1680., 1687., 1693., 1719., 1770., 1784.,\n",
       "        1796., 1797., 1798., 1596., 1598., 1599., 1606., 1608., 1614.,\n",
       "        1624., 1627., 1629., 1630., 1631., 1635., 1638., 1639., 1640.,\n",
       "        1641., 1642., 1644., 1645., 1646., 1647., 1649., 1650., 1651.,\n",
       "        1652., 1653., 1654., 1655., 1656., 1658., 1659., 1660., 1661.,\n",
       "        1662., 1663., 1664., 1665., 1666., 1667., 1668., 1669., 1671.,\n",
       "        1673., 1675., 1676., 1677., 1680., 1681., 1682., 1685., 1687.,\n",
       "        1693., 1716., 1719., 1727., 1750., 1759., 1760., 1761., 1762.,\n",
       "        1763., 1766., 1768., 1770., 1784., 1789., 1795., 1796., 1797.,\n",
       "        1798., 1809., 1811., 1812., 1813., 1821., 1829., 1833., 1835.,\n",
       "        1838., 1849., 1851., 1852., 1854., 1872., 1873., 1875., 1876.,\n",
       "        1877., 1880., 1891., 1911., 1912., 1913., 1915., 1918., 1919.,\n",
       "        1921., 1925., 1926., 1928., 1930., 1933., 1934., 1935., 1939.,\n",
       "        1941., 1943., 1945., 1949.],\n",
       "       [  22.,  187.,  164.,   16.,  253.,   14.,  210.,   71.,   18.,\n",
       "          16.,    4.,   11.,   18.,  187.,   13.,  196.,  245.,   22.,\n",
       "          44.,    4.,   24.,  166.,   22.,  164.,   17.,   36.,   30.,\n",
       "         140.,  108.,  158.,   62.,   56.,   15.,   49.,   27.,   56.,\n",
       "          70.,   51.,    1.,  107.,    8.,    6.,    4.,    3.,    9.,\n",
       "           8.,    8.,    5.,   10.,    9.,    8.,   13.,    2.,  204.,\n",
       "          45.,   30.,  157.,  171.,   16.,  243.,   97.,   10.,  253.,\n",
       "          14.,   22.,  210.,   20.,  166.,  302.,   61.,  114.,    9.,\n",
       "          63.,   97.,   13.,   71.,   18.,   24.,   16.,   16.,    4.,\n",
       "          11.,  150.,    4.,   48.,   60.,   34.,   45.,    7.,   25.,\n",
       "          27.,  226.,   29.,    7.,  101.,  112.,   30.,    4.,   23.,\n",
       "          10.,   50.,   95.,   20.,  174.,  242.,  112.,  212.,   17.,\n",
       "          52.,  150.,  108.,  133.,   52.,  114.,  114.,  103.,   31.,\n",
       "          21.,   10.,  156.,   43.],\n",
       "       [ 678., 4633., 4277.,  387., 5695.,  376., 5330., 1939.,  880.,\n",
       "         400.,  143.,  283.,  381., 4633.,  305., 3660., 4678.,  678.,\n",
       "        1157.,   45.,  487., 3826.,  465., 4277.,  433.,  864.,  451.,\n",
       "        2558., 2104., 2832., 1104., 1016.,  258., 1080.,  546., 1103.,\n",
       "        1427.,  742.,   35., 1977.,  106.,  146.,  112.,   70.,  406.,\n",
       "         227.,  221.,   60.,  214.,  245.,  113.,  213.,   32., 4633.,\n",
       "        1216., 1097., 2817., 4381.,  387., 4691., 1757.,  245., 5695.,\n",
       "         376.,  468., 5330.,  269., 3293., 5052., 1031., 2028.,  103.,\n",
       "        1106., 2080.,  242., 1939.,  880.,  815.,  361.,  400.,  143.,\n",
       "         283., 2288.,   70.,  970., 1235.,  835., 1008.,  133.,  411.,\n",
       "         692., 4579.,  526.,   72., 2463., 3101.,  930.,  141.,  337.,\n",
       "         263.,  925., 1950.,  290., 3572., 5435., 1580., 5309.,  266.,\n",
       "        1225., 2175., 1691., 2198.,  803., 1850., 1705., 1596.,  563.,\n",
       "         548.,  254., 3435.,  862.]])"
      ]
     },
     "execution_count": 22,
     "metadata": {},
     "output_type": "execute_result"
    }
   ],
   "source": [
    "np.set_printoptions(suppress=True)\n",
    "np.array((np.array(run_num),(FN_num),(ME_num)))"
   ]
  }
 ],
 "metadata": {
  "kernelspec": {
   "display_name": "Python 3",
   "language": "python",
   "name": "python3"
  },
  "language_info": {
   "codemirror_mode": {
    "name": "ipython",
    "version": 3
   },
   "file_extension": ".py",
   "mimetype": "text/x-python",
   "name": "python",
   "nbconvert_exporter": "python",
   "pygments_lexer": "ipython3",
   "version": "3.7.9"
  }
 },
 "nbformat": 4,
 "nbformat_minor": 4
}
