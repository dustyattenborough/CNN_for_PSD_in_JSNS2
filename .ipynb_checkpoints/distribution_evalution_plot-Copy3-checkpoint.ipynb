{
 "cells": [
  {
   "cell_type": "code",
   "execution_count": 1,
   "metadata": {
    "slideshow": {
     "slide_type": "-"
    }
   },
   "outputs": [],
   "source": [
    "import numpy as np\n",
    "import h5py\n",
    "import os\n",
    "# import time\n",
    "import matplotlib.pyplot as plt\n",
    "import pandas as pd\n",
    "import sys"
   ]
  },
  {
   "cell_type": "code",
   "execution_count": 2,
   "metadata": {
    "slideshow": {
     "slide_type": "-"
    }
   },
   "outputs": [],
   "source": [
    "# input_path = 'run1221_r01592_R14_Z10_noshif_nolog_0'\n",
    "# input_path = 'RM_1563_Rho_0.8_Z_0.8_min_400_dv_1_0829_odd'\n",
    "input_path = 'before_newjade/data_210814/RM_1592_Rho_0.6_ZL_0.6_log_208_0814_odd'"
   ]
  },
  {
   "cell_type": "code",
   "execution_count": 3,
   "metadata": {
    "scrolled": false
   },
   "outputs": [],
   "source": [
    "# si_path = 'result/' + input_path + '/sampleInfo_eval.csv'\n",
    "si_path = 'result/' + input_path + '/sampleInfo_even.csv'\n",
    "si = pd.read_csv(si_path)\n",
    "# fPred = 'result/' + input_path + '/' + input_path + '.csv'\n",
    "fPred = 'result/' + input_path + '/RM_1592_Rho_0.6_ZL_0.6_log_208_0814_odd.csv'\n",
    "info = pd.read_csv(fPred)\n"
   ]
  },
  {
   "cell_type": "code",
   "execution_count": 4,
   "metadata": {},
   "outputs": [],
   "source": [
    "info_numpy = np.array(info)\n",
    "si_numpy = np.array(si)"
   ]
  },
  {
   "cell_type": "code",
   "execution_count": 5,
   "metadata": {},
   "outputs": [
    {
     "data": {
      "text/plain": [
       "9583"
      ]
     },
     "execution_count": 5,
     "metadata": {},
     "output_type": "execute_result"
    }
   ],
   "source": [
    "len(info)"
   ]
  },
  {
   "cell_type": "code",
   "execution_count": 6,
   "metadata": {},
   "outputs": [
    {
     "ename": "OSError",
     "evalue": "Unable to open file (unable to open file: name = 'com_data/r001592/FN_even_Rho_0.6_ZL_0.6/combined.debug.r001592.f04138_FN.h5', errno = 2, error message = 'No such file or directory', flags = 0, o_flags = 0)",
     "output_type": "error",
     "traceback": [
      "\u001b[0;31m---------------------------------------------------------------------------\u001b[0m",
      "\u001b[0;31mOSError\u001b[0m                                   Traceback (most recent call last)",
      "\u001b[0;32m<ipython-input-6-39699ecd58a7>\u001b[0m in \u001b[0;36m<module>\u001b[0;34m\u001b[0m\n\u001b[1;32m     19\u001b[0m \u001b[0;34m\u001b[0m\u001b[0m\n\u001b[1;32m     20\u001b[0m \u001b[0;34m\u001b[0m\u001b[0m\n\u001b[0;32m---> 21\u001b[0;31m     \u001b[0mdata\u001b[0m \u001b[0;34m=\u001b[0m \u001b[0mh5py\u001b[0m\u001b[0;34m.\u001b[0m\u001b[0mFile\u001b[0m\u001b[0;34m(\u001b[0m\u001b[0mfilename\u001b[0m\u001b[0;34m,\u001b[0m\u001b[0;34m'r'\u001b[0m\u001b[0;34m)\u001b[0m\u001b[0;34m\u001b[0m\u001b[0;34m\u001b[0m\u001b[0m\n\u001b[0m\u001b[1;32m     22\u001b[0m \u001b[0;34m\u001b[0m\u001b[0m\n\u001b[1;32m     23\u001b[0m     \u001b[0mdT\u001b[0m \u001b[0;34m=\u001b[0m \u001b[0mdata\u001b[0m\u001b[0;34m[\u001b[0m\u001b[0;34m'events'\u001b[0m\u001b[0;34m]\u001b[0m\u001b[0;34m[\u001b[0m\u001b[0;34m'dT'\u001b[0m\u001b[0;34m]\u001b[0m\u001b[0;34m[\u001b[0m\u001b[0midx\u001b[0m\u001b[0;34m]\u001b[0m\u001b[0;34m\u001b[0m\u001b[0;34m\u001b[0m\u001b[0m\n",
      "\u001b[0;32m~/.conda/envs/pytorch170_pyG/lib/python3.7/site-packages/h5py/_hl/files.py\u001b[0m in \u001b[0;36m__init__\u001b[0;34m(self, name, mode, driver, libver, userblock_size, swmr, rdcc_nslots, rdcc_nbytes, rdcc_w0, track_order, **kwds)\u001b[0m\n\u001b[1;32m    406\u001b[0m                 fid = make_fid(name, mode, userblock_size,\n\u001b[1;32m    407\u001b[0m                                \u001b[0mfapl\u001b[0m\u001b[0;34m,\u001b[0m \u001b[0mfcpl\u001b[0m\u001b[0;34m=\u001b[0m\u001b[0mmake_fcpl\u001b[0m\u001b[0;34m(\u001b[0m\u001b[0mtrack_order\u001b[0m\u001b[0;34m=\u001b[0m\u001b[0mtrack_order\u001b[0m\u001b[0;34m)\u001b[0m\u001b[0;34m,\u001b[0m\u001b[0;34m\u001b[0m\u001b[0;34m\u001b[0m\u001b[0m\n\u001b[0;32m--> 408\u001b[0;31m                                swmr=swmr)\n\u001b[0m\u001b[1;32m    409\u001b[0m \u001b[0;34m\u001b[0m\u001b[0m\n\u001b[1;32m    410\u001b[0m             \u001b[0;32mif\u001b[0m \u001b[0misinstance\u001b[0m\u001b[0;34m(\u001b[0m\u001b[0mlibver\u001b[0m\u001b[0;34m,\u001b[0m \u001b[0mtuple\u001b[0m\u001b[0;34m)\u001b[0m\u001b[0;34m:\u001b[0m\u001b[0;34m\u001b[0m\u001b[0;34m\u001b[0m\u001b[0m\n",
      "\u001b[0;32m~/.conda/envs/pytorch170_pyG/lib/python3.7/site-packages/h5py/_hl/files.py\u001b[0m in \u001b[0;36mmake_fid\u001b[0;34m(name, mode, userblock_size, fapl, fcpl, swmr)\u001b[0m\n\u001b[1;32m    171\u001b[0m         \u001b[0;32mif\u001b[0m \u001b[0mswmr\u001b[0m \u001b[0;32mand\u001b[0m \u001b[0mswmr_support\u001b[0m\u001b[0;34m:\u001b[0m\u001b[0;34m\u001b[0m\u001b[0;34m\u001b[0m\u001b[0m\n\u001b[1;32m    172\u001b[0m             \u001b[0mflags\u001b[0m \u001b[0;34m|=\u001b[0m \u001b[0mh5f\u001b[0m\u001b[0;34m.\u001b[0m\u001b[0mACC_SWMR_READ\u001b[0m\u001b[0;34m\u001b[0m\u001b[0;34m\u001b[0m\u001b[0m\n\u001b[0;32m--> 173\u001b[0;31m         \u001b[0mfid\u001b[0m \u001b[0;34m=\u001b[0m \u001b[0mh5f\u001b[0m\u001b[0;34m.\u001b[0m\u001b[0mopen\u001b[0m\u001b[0;34m(\u001b[0m\u001b[0mname\u001b[0m\u001b[0;34m,\u001b[0m \u001b[0mflags\u001b[0m\u001b[0;34m,\u001b[0m \u001b[0mfapl\u001b[0m\u001b[0;34m=\u001b[0m\u001b[0mfapl\u001b[0m\u001b[0;34m)\u001b[0m\u001b[0;34m\u001b[0m\u001b[0;34m\u001b[0m\u001b[0m\n\u001b[0m\u001b[1;32m    174\u001b[0m     \u001b[0;32melif\u001b[0m \u001b[0mmode\u001b[0m \u001b[0;34m==\u001b[0m \u001b[0;34m'r+'\u001b[0m\u001b[0;34m:\u001b[0m\u001b[0;34m\u001b[0m\u001b[0;34m\u001b[0m\u001b[0m\n\u001b[1;32m    175\u001b[0m         \u001b[0mfid\u001b[0m \u001b[0;34m=\u001b[0m \u001b[0mh5f\u001b[0m\u001b[0;34m.\u001b[0m\u001b[0mopen\u001b[0m\u001b[0;34m(\u001b[0m\u001b[0mname\u001b[0m\u001b[0;34m,\u001b[0m \u001b[0mh5f\u001b[0m\u001b[0;34m.\u001b[0m\u001b[0mACC_RDWR\u001b[0m\u001b[0;34m,\u001b[0m \u001b[0mfapl\u001b[0m\u001b[0;34m=\u001b[0m\u001b[0mfapl\u001b[0m\u001b[0;34m)\u001b[0m\u001b[0;34m\u001b[0m\u001b[0;34m\u001b[0m\u001b[0m\n",
      "\u001b[0;32mh5py/_objects.pyx\u001b[0m in \u001b[0;36mh5py._objects.with_phil.wrapper\u001b[0;34m()\u001b[0m\n",
      "\u001b[0;32mh5py/_objects.pyx\u001b[0m in \u001b[0;36mh5py._objects.with_phil.wrapper\u001b[0;34m()\u001b[0m\n",
      "\u001b[0;32mh5py/h5f.pyx\u001b[0m in \u001b[0;36mh5py.h5f.open\u001b[0;34m()\u001b[0m\n",
      "\u001b[0;31mOSError\u001b[0m: Unable to open file (unable to open file: name = 'com_data/r001592/FN_even_Rho_0.6_ZL_0.6/combined.debug.r001592.f04138_FN.h5', errno = 2, error message = 'No such file or directory', flags = 0, o_flags = 0)"
     ]
    }
   ],
   "source": [
    "preds = []\n",
    "labels = []\n",
    "dVertexs = []\n",
    "dTs = []\n",
    "vertexXs = []\n",
    "vertexYs = []\n",
    "vertexZs = []\n",
    "for i in range(len(info_numpy)):\n",
    "\n",
    "    label = info_numpy[i][0]\n",
    "    pred = info_numpy[i][1]\n",
    "\n",
    "    fileidx = info_numpy[i][4]\n",
    "    \n",
    "    filename = si_numpy[int(fileidx)][2]\n",
    "    \n",
    "    \n",
    "    idx = info_numpy[i][5]\n",
    "\n",
    "    \n",
    "    data = h5py.File(filename,'r')\n",
    "\n",
    "    dT = data['events']['dT'][idx]\n",
    "    dVertex = data['events']['dVertex'][idx]\n",
    "    vertexX = data['events']['vertexX'][idx]\n",
    "    vertexY = data['events']['vertexY'][idx]\n",
    "    vertexZ = data['events']['vertexZ'][idx]\n",
    "    \n",
    "    \n",
    "    preds.append(pred)\n",
    "    labels.append(label)\n",
    "    dVertexs.append(dVertex)\n",
    "    dTs.append(dT)\n",
    "#     print(dTs.type)\n",
    "    vertexXs.append(vertexX)\n",
    "    vertexYs.append(vertexY)\n",
    "    vertexZs.append(vertexZ)\n",
    "\n"
   ]
  },
  {
   "cell_type": "code",
   "execution_count": null,
   "metadata": {
    "scrolled": true
   },
   "outputs": [],
   "source": [
    "preds = np.array(preds)\n",
    "labels = np.array(labels)\n",
    "dVertexs = np.array(dVertexs)\n",
    "dTs = np.array(dTs)\n",
    "vertexXs = np.array(vertexXs)\n",
    "vertexYs = np.array(vertexYs)\n",
    "vertexZs = np.array(vertexZs)"
   ]
  },
  {
   "cell_type": "code",
   "execution_count": null,
   "metadata": {},
   "outputs": [],
   "source": [
    "ME_label = []\n",
    "ME_dVertex = []\n",
    "ME_dT = []\n",
    "ME_vertexX = []\n",
    "ME_vertexY = []\n",
    "ME_vertexZ = []\n",
    "ME_pred = []\n",
    "\n",
    "\n",
    "FN_label = []\n",
    "FN_dVertex = []\n",
    "FN_dT = []\n",
    "FN_vertexX = []\n",
    "FN_vertexY = []\n",
    "FN_vertexZ = []\n",
    "FN_pred = []"
   ]
  },
  {
   "cell_type": "code",
   "execution_count": null,
   "metadata": {},
   "outputs": [],
   "source": [
    "for i in range(len(preds)):\n",
    "    if labels[i] == 1:\n",
    "        ME_label.append(labels[i])\n",
    "        ME_dVertex.append(dVertexs[i])\n",
    "        ME_dT.append(dTs[i])\n",
    "        ME_vertexX.append(vertexXs[i])\n",
    "        ME_vertexY.append(vertexYs[i])\n",
    "        ME_vertexZ.append(vertexZs[i])\n",
    "        ME_pred.append(preds[i])\n",
    "    else:\n",
    "   \n",
    "        FN_label.append(labels[i])\n",
    "        FN_dVertex.append(dVertexs[i])\n",
    "        FN_dT.append(dTs[i])\n",
    "        FN_vertexX.append(vertexXs[i])\n",
    "        FN_vertexY.append(vertexYs[i])\n",
    "        FN_vertexZ.append(vertexZs[i])\n",
    "        FN_pred.append(preds[i])"
   ]
  },
  {
   "cell_type": "code",
   "execution_count": null,
   "metadata": {},
   "outputs": [],
   "source": [
    "ME_sig = -np.log((1/np.array(ME_pred))-1)\n",
    "FN_sig = -np.log((1/np.array(FN_pred))-1)"
   ]
  },
  {
   "cell_type": "code",
   "execution_count": null,
   "metadata": {},
   "outputs": [],
   "source": [
    "FN_over_0 = 100*np.sum(FN_sig > 0)/len(FN_sig)"
   ]
  },
  {
   "cell_type": "code",
   "execution_count": null,
   "metadata": {},
   "outputs": [],
   "source": [
    "ME_under_0 = 100*np.sum(ME_sig < 0)/len(ME_sig)"
   ]
  },
  {
   "cell_type": "code",
   "execution_count": null,
   "metadata": {
    "scrolled": false
   },
   "outputs": [],
   "source": [
    "plt.hist(FN_sig, bins = 100, range = (-20, 20), density = True, color ='r',histtype = 'step')\n",
    "plt.hist(ME_sig, bins = 100, range = (-20, 20), density = True, color ='b',histtype = 'step')\n",
    "# plt.text(10, 0.15,'FN > 0' + str(FN_over_0), fontsize = 20)\n",
    "# plt.text(10, 0.1, 'ME < 0' + str(ME_under_0), fontsize = 20)\n",
    "\n",
    "\n",
    "FN_over = '%.2f' %FN_over_0\n",
    "ME_under = '%.2f' %ME_under_0\n",
    "\n",
    "label = ['FN : FN > 0 = '+FN_over+'%', \n",
    "         'ME : ME < 0 = '+ME_under+'%']\n",
    "\n",
    "\n",
    "leg = plt.legend(label, loc = 'best', frameon=False)\n",
    "\n",
    "leg_lines = leg.get_lines()\n",
    "leg_texts = leg.get_texts()\n",
    "\n",
    "plt.setp(leg_lines, linewidth=15)\n",
    "plt.setp(leg_texts, fontsize=15)\n",
    "\n",
    "plt.title('')\n",
    "plt.show()"
   ]
  },
  {
   "cell_type": "code",
   "execution_count": null,
   "metadata": {},
   "outputs": [],
   "source": []
  },
  {
   "cell_type": "code",
   "execution_count": null,
   "metadata": {},
   "outputs": [],
   "source": []
  },
  {
   "cell_type": "code",
   "execution_count": null,
   "metadata": {},
   "outputs": [],
   "source": [
    "num_FN = len(FN_dT)"
   ]
  },
  {
   "cell_type": "code",
   "execution_count": null,
   "metadata": {},
   "outputs": [],
   "source": [
    "num_ME = len(ME_dT)"
   ]
  },
  {
   "cell_type": "code",
   "execution_count": null,
   "metadata": {
    "scrolled": false
   },
   "outputs": [],
   "source": [
    "plt.hist(np.array(FN_dT)*0.001, bins = 100, color= 'r', alpha = 0.5, density = True, histtype = 'step')\n",
    "plt.hist(np.array(ME_dT)*0.001, bins = 100, color= 'b', alpha = 0.5, density = True, histtype = 'step')\n",
    "# plt.title('dT')\n",
    "plt.xticks(fontsize = 15)\n",
    "plt.yticks(fontsize = 15)\n",
    "plt.xlabel(\"\\u03BCs\", fontsize=15, loc='right')\n",
    "\n",
    "plt.show()\n",
    "\n",
    "plt.hist(np.array(FN_dVertex)*100, bins = 80, color= 'r', alpha = 0.5, density = True, histtype = 'step')\n",
    "plt.hist(np.array(ME_dVertex)*100, bins = 80, color= 'b', alpha = 0.5, density = True, histtype = 'step')\n",
    "# plt.title('dVertex')\n",
    "plt.xticks(fontsize = 15)\n",
    "plt.yticks(fontsize = 15)\n",
    "plt.xlabel(\"cm\", fontsize=15, loc='right')\n",
    "plt.show()\n",
    "\n",
    "# plt.plot(np.array(ME_vertexX)*100, np.array(ME_vertexY)*100, '.b', alpha = 0.1)\n",
    "# plt.plot(np.array(FN_vertexX)*100, np.array(FN_vertexY)*100, '.r', alpha = 0.5)\n",
    "# # plt.title('vertexXY')\n",
    "# plt.xlabel(\"cm\", fontsize=15, loc='right')\n",
    "# plt.show()\n",
    "\n",
    "plt.hist(np.array(FN_vertexZ)*100, bins = 80, color= 'r', alpha = 0.5, density = True, histtype = 'step')\n",
    "plt.hist(np.array(ME_vertexZ)*100, bins = 80, color= 'b', alpha = 0.5, density = True, histtype = 'step')\n",
    "# plt.title('vertexZ')plt.xticks(fontsize = 15)\n",
    "plt.xticks(fontsize = 15)\n",
    "plt.yticks(fontsize = 15)\n",
    "plt.xlabel(\"cm\", fontsize=15, loc='right')\n",
    "plt.show()\n",
    "\n",
    "# plt.hist2d(FN_dVertex, FN_vertexZ, bins=50)\n",
    "# plt.show()\n",
    "# plt.hist2d(ME_dVertex, ME_vertexZ, bins=50)\n",
    "# plt.show()\n",
    "plt.hist((np.array(FN_vertexX)**2+np.array(FN_vertexY)**2)*100, bins = 80, color= 'r', alpha = 0.5, density = True, histtype = 'step')\n",
    "plt.hist((np.array(ME_vertexX)**2+np.array(ME_vertexY)**2)*100, bins = 80, color= 'b', alpha = 0.5, density = True, histtype = 'step')\n",
    "# plt.title('vertexR\\u00b2')\n",
    "plt.xticks(fontsize = 15)\n",
    "plt.yticks(fontsize = 15)\n",
    "plt.xlabel(\"cm\", fontsize=15, loc='right')\n",
    "plt.show()"
   ]
  },
  {
   "cell_type": "code",
   "execution_count": null,
   "metadata": {},
   "outputs": [],
   "source": [
    "list_range = np.arange(0,1,0.001)"
   ]
  },
  {
   "cell_type": "code",
   "execution_count": null,
   "metadata": {
    "scrolled": true
   },
   "outputs": [],
   "source": [
    "for i in range(len(list_range)):\n",
    "    a = len(np.array(ME_pred)[np.array(ME_pred)>list_range[i]])/len(np.array(ME_pred))\n",
    "#     print(list_range[i])\n",
    "    \n",
    "    if (a > 0.99):\n",
    "     \n",
    "        eff_99 = list_range[i]\n",
    "        continue\n",
    "        \n",
    "    if (a > 0.95):\n",
    "        \n",
    "        eff_95 = list_range[i]\n",
    "        continue\n",
    "        \n",
    "    if (a > 0.90):\n",
    "       \n",
    "        eff_90 = list_range[i]\n",
    "        continue\n",
    "    "
   ]
  },
  {
   "cell_type": "code",
   "execution_count": null,
   "metadata": {},
   "outputs": [],
   "source": [
    "eff_50_ME = len(np.array(ME_pred)[np.array(ME_pred)>0.5])/len(np.array(ME_pred))\n",
    "# print(eff_50_ME)\n",
    "eff_50_FN = len(np.array(FN_pred)[np.array(FN_pred)>0.5])/len(np.array(FN_pred))\n",
    "# print(eff_50_FN)\n",
    "num_50_ME = num_ME*len(np.array(ME_pred)[np.array(ME_pred)>0.5])/len(np.array(ME_pred))\n",
    "# print(num_50_ME)\n",
    "num_50_FN = num_FN*len(np.array(FN_pred)[np.array(FN_pred)>0.5])/len(np.array(FN_pred))\n",
    "# print(num_50_FN)"
   ]
  },
  {
   "cell_type": "markdown",
   "metadata": {},
   "source": [
    "99% efficient"
   ]
  },
  {
   "cell_type": "code",
   "execution_count": null,
   "metadata": {},
   "outputs": [],
   "source": [
    "eff_99_ME = len(np.array(ME_pred)[np.array(ME_pred)>eff_99])/len(np.array(ME_pred))\n",
    "# print(eff_99_ME)\n",
    "eff_99_FN = len(np.array(FN_pred)[np.array(FN_pred)>eff_99])/len(np.array(FN_pred))\n",
    "# print(eff_99_FN)\n",
    "num_99_ME = num_ME*len(np.array(ME_pred)[np.array(ME_pred)>eff_99])/len(np.array(ME_pred))\n",
    "num_99_FN = num_FN*len(np.array(FN_pred)[np.array(FN_pred)>eff_99])/len(np.array(FN_pred))\n",
    "# print(num_99_ME)\n",
    "# print(num_99_FN)"
   ]
  },
  {
   "cell_type": "markdown",
   "metadata": {},
   "source": [
    "95% efficient"
   ]
  },
  {
   "cell_type": "code",
   "execution_count": null,
   "metadata": {},
   "outputs": [],
   "source": [
    "eff_95_ME = len(np.array(ME_pred)[np.array(ME_pred)>eff_95])/len(np.array(ME_pred))\n",
    "# print(eff_95_ME)\n",
    "eff_95_FN = len(np.array(FN_pred)[np.array(FN_pred)>eff_95])/len(np.array(FN_pred))\n",
    "# print(eff_95_FN)\n",
    "num_95_ME = num_ME*len(np.array(ME_pred)[np.array(ME_pred)>eff_95])/len(np.array(ME_pred))\n",
    "num_95_FN = num_FN*len(np.array(FN_pred)[np.array(FN_pred)>eff_95])/len(np.array(FN_pred))\n",
    "# print(num_95_ME)\n",
    "# print(num_95_FN)"
   ]
  },
  {
   "cell_type": "markdown",
   "metadata": {},
   "source": [
    "90% efficient"
   ]
  },
  {
   "cell_type": "code",
   "execution_count": null,
   "metadata": {},
   "outputs": [],
   "source": [
    "eff_90_ME = len(np.array(ME_pred)[np.array(ME_pred)>eff_90])/len(np.array(ME_pred))\n",
    "# print(eff_90_ME)\n",
    "eff_90_FN = len(np.array(FN_pred)[np.array(FN_pred)>eff_90])/len(np.array(FN_pred))\n",
    "# print(eff_90_FN)\n",
    "num_90_ME = num_ME*len(np.array(ME_pred)[np.array(ME_pred)>eff_90])/len(np.array(ME_pred))\n",
    "num_90_FN = num_FN*len(np.array(FN_pred)[np.array(FN_pred)>eff_90])/len(np.array(FN_pred))\n",
    "# print(num_90_ME)\n",
    "# print(num_90_FN)"
   ]
  },
  {
   "cell_type": "code",
   "execution_count": null,
   "metadata": {},
   "outputs": [],
   "source": [
    "print('         |   90%   |   95%   |   99%   |   mid   |')\n",
    "print('--------------------------------------------------')\n",
    "print('  ME_eff |','%.4f  |'%eff_90_ME,'%.4f  |'%eff_95_ME,'%.4f  |'%eff_99_ME,'%.4f  |'%eff_50_ME)\n",
    "print('--------------------------------------------------')\n",
    "print('  FN_eff |','%.4f  |'%eff_90_FN,'%.4f  |'%eff_95_FN,'%.4f  |'%eff_99_FN,'%.4f  |'%eff_50_FN)\n",
    "print('--------------------------------------------------')\n",
    "print('ME_remain|','%7d'%int(num_90_ME),'|','%7d'%int(num_95_ME),'|','%7d'%int(num_99_ME),'|','%7d'%int(num_50_ME),'|')\n",
    "print('--------------------------------------------------')\n",
    "print('FN_remain|','%7d'%int(num_90_FN),'|','%7d'%int(num_95_FN),'|','%7d'%int(num_99_FN),'|','%7d'%int(num_50_FN),'|')\n",
    "print('--------------------------------------------------')\n",
    "print('CNN score|','','%.3f'%eff_90,' | ','%.3f'%eff_95,' | ','%.3f'%eff_99,' |  ',0.5,'  |')\n",
    "print('==================================================')\n",
    "print('         |   FN    |   ME    |')\n",
    "print('# data   |','%7d'%len(FN_dT),'|', '%7d'%len(ME_dT),'|')"
   ]
  },
  {
   "cell_type": "markdown",
   "metadata": {},
   "source": [
    "Evaluation and ROC"
   ]
  },
  {
   "cell_type": "code",
   "execution_count": null,
   "metadata": {},
   "outputs": [],
   "source": [
    "\n",
    "##### Draw ROC curve #####\n",
    "from sklearn.metrics import roc_curve, roc_auc_score\n",
    "\n",
    "\n",
    "from matplotlib.cbook import get_sample_data\n",
    "# im = plt.imread(get_sample_data('/users/yewzzang/work/JSNS2/NuML/PSD/JSNS_image.png'))\n",
    "\n",
    "# fig, ax = plt.subplots()\n",
    "\n",
    "df = pd.read_csv(fPred)\n",
    "tpr, fpr, thr = roc_curve(df['label'], df['prediction'], sample_weight=df['weight'], pos_label=0)\n",
    "auc = roc_auc_score(df['label'], df['prediction'], sample_weight=df['weight'])\n",
    "\n",
    "\n",
    "df_bkg = df[df.label==0]\n",
    "df_sig = df[df.label==1]\n",
    "plt.rcParams['figure.figsize'] = (10, 10)\n",
    "plt.rcParams[\"font.family\"] = 'Helvetica'\n",
    "# hbkg1 = df_bkg['prediction'].plot(kind='hist', histtype='step', weights=df_bkg['weight'], density = True, bins=np.linspace(0, 1, 50), color='red', linewidth=3)\n",
    "# hsig1 = df_sig['prediction'].plot(kind='hist', histtype='step', weights=df_sig['weight'], density = True, bins=np.linspace(0, 1, 50), color='blue', linewidth=3)\n",
    "\n",
    "plt.hist(df_bkg['prediction']*100, weights=df_bkg['weight'], histtype='step', \n",
    "         density=True, bins=50, color='red', linewidth=3)\n",
    "\n",
    "plt.hist(df_sig['prediction']*100, weights=df_sig['weight'], histtype='step', \n",
    "         density=True, bins=50, color='blue', linewidth=3)\n",
    "\n",
    "\n",
    "\n",
    "plt.xticks(np.arange(0, 101, step=20),[\"{}\".format(x*0.01) for x in np.arange(0, 101,step=20)],fontsize = 20)\n",
    "plt.yticks(fontsize = 20)\n",
    "plt.xlabel(\"CNN score\", fontsize=35, loc='right')\n",
    "plt.ylabel(\"Normalized\", fontsize=35, loc='top')\n",
    "plt.xlim(0, 100)\n",
    "label = ['Fast Neutron', 'Michel Electrons']\n",
    "\n",
    "leg = plt.legend(label, loc = 'upper center', frameon=False)\n",
    "\n",
    "leg_lines = leg.get_lines()\n",
    "leg_texts = leg.get_texts()\n",
    "\n",
    "plt.setp(leg_lines, linewidth=30)\n",
    "plt.setp(leg_texts, fontsize=30)\n",
    "# plt.title(\"JSNS\\u00b2 Work in progress\", fontsize = 30, loc='left', pad=20)\n",
    "\n",
    "\n",
    "\n",
    "# newax = fig.add_axes([0.7, 0.75, 0.2, 0.2], anchor='NE', zorder=-1)\n",
    "# newax.imshow(im)\n",
    "# newax.axis('off')\n"
   ]
  },
  {
   "cell_type": "code",
   "execution_count": null,
   "metadata": {},
   "outputs": [],
   "source": [
    "from matplotlib.cbook import get_sample_data\n",
    "\n",
    "# im = plt.imread(get_sample_data('/Users/yoochanghyun/JSNS2/PSD/JSNS_image.png'))\n",
    "\n",
    "# fig, ax = plt.subplots()\n",
    "\n",
    "plt.rcParams['figure.figsize'] = (10, 10)\n",
    "plt.rcParams[\"font.family\"] = 'Helvetica'\n",
    "\n",
    "\n",
    "\n",
    "plt.xticks(fontsize = 20)\n",
    "plt.yticks(fontsize = 20)\n",
    "\n",
    "\n",
    "# plt.figure(figsize=(15,10))\n",
    "plt.plot(fpr*100, tpr*100, label='AUC = %.3f' % (auc))\n",
    "plt.plot(eff_99_FN*100, eff_99_ME*100,'*r', markersize=40)\n",
    "\n",
    "plt.plot(eff_95_FN*100, eff_95_ME*100,'*g', markersize=40)\n",
    "\n",
    "plt.plot(eff_90_FN*100, eff_90_ME*100,'*b', markersize=40)\n",
    "\n",
    "plt.plot(eff_50_FN*100, eff_50_ME*100,'*k', markersize=40)\n",
    "\n",
    "plt.xlabel('FN efficiency (%)', fontsize=35, loc='right')\n",
    "plt.ylabel('ME efficiency (%)', fontsize=35, loc='top')\n",
    "\n",
    "\n",
    "\n",
    "#plt.xlim(0, 0.001)\n",
    "plt.xlim(0, 100)\n",
    "plt.ylim(0, 100)\n",
    "# plt.legend(loc = 'lower center')\n",
    "# plt.savefig('result/' +args.output + '/' + args.output + '_efficiency.png', dpi=300)\n",
    "plt.grid()\n",
    "print_auc = '%.3f' %auc\n",
    "print_eff_99 = '%.3f' %eff_99\n",
    "print_eff_95 = '%.3f' %eff_95\n",
    "print_eff_90 = '%.3f' %eff_90\n",
    "label = ['AUC = '+print_auc,'99% WP(score='+print_eff_99+')', '95% WP(score='+print_eff_95+')', '90% WP(score='+print_eff_90+')','Middle WP (score=0.5)']\n",
    "\n",
    "leg = plt.legend(label, loc = 'right', frameon=False)\n",
    "\n",
    " \n",
    "leg_lines = leg.get_lines()\n",
    "leg_texts = leg.get_texts()\n",
    "\n",
    "plt.setp(leg_lines, linewidth=15)\n",
    "plt.setp(leg_texts, fontsize=30)\n",
    "# plt.title(\"JSNS\\u00b2 Work in progress\", fontsize = 30, loc='left', pad=20)\n",
    "\n",
    "\n",
    "\n",
    "# newax = fig.add_axes([0.7, 0.75, 0.2, 0.2], anchor='NE', zorder=-1)\n",
    "# newax.imshow(im)\n",
    "# newax.axis('off')\n"
   ]
  },
  {
   "cell_type": "code",
   "execution_count": null,
   "metadata": {},
   "outputs": [],
   "source": [
    "from scipy.stats import gaussian_kde\n",
    "xy = np.vstack([np.array(FN_dT)*0.001,np.array(FN_sig)])\n",
    "xy[xy==np.inf] =0\n",
    "z = gaussian_kde(xy)(xy)\n",
    "idx = z.argsort()\n",
    "x, y, z = (np.array(FN_dT)*0.001)[idx], np.array(FN_sig)[idx], z[idx]"
   ]
  },
  {
   "cell_type": "code",
   "execution_count": null,
   "metadata": {},
   "outputs": [],
   "source": []
  },
  {
   "cell_type": "code",
   "execution_count": null,
   "metadata": {
    "scrolled": false
   },
   "outputs": [],
   "source": [
    "# plt.scatter(np.array(FN_dT)/10000,FN_sig, c = z)\n",
    "# plt.figure(figsize=(8,5))\n",
    "plt.scatter(x, y, c=z, s=50, cmap=plt.cm.jet)\n",
    "# plt.scatter(np.array(ME_dT)/10000,ME_sig, color = 'b', alpha=0.2)\n",
    "plt.xticks(fontsize = 15)\n",
    "plt.yticks(fontsize = 15)\n",
    "plt.xlabel(\"\\u03BCs\", fontsize=25, loc='right')\n",
    "plt.ylabel(\"score\", fontsize=25, loc='top')\n",
    "plt.colorbar()\n",
    "plt.show()"
   ]
  },
  {
   "cell_type": "code",
   "execution_count": null,
   "metadata": {},
   "outputs": [],
   "source": [
    "\n",
    "xy = np.vstack([np.array(ME_dT)*0.001,np.array(ME_sig)])\n",
    "xy[xy==np.inf] =0\n",
    "z = gaussian_kde(xy)(xy)\n",
    "idx = z.argsort()\n",
    "x, y, z = (np.array(ME_dT)*0.001)[idx], np.array(ME_sig)[idx], z[idx]"
   ]
  },
  {
   "cell_type": "code",
   "execution_count": null,
   "metadata": {},
   "outputs": [],
   "source": [
    "# plt.scatter(np.array(FN_dT)/10000,FN_sig, c = z)\n",
    "# plt.figure(figsize=(8,5))\n",
    "plt.scatter(x, y, c=z, s=50, cmap=plt.cm.jet)\n",
    "# plt.scatter(np.array(ME_dT)/10000,ME_sig, color = 'b', alpha=0.2)\n",
    "plt.xticks(fontsize = 15)\n",
    "plt.yticks(fontsize = 15)\n",
    "plt.xlabel(\"\\u03BCs\", fontsize=25, loc='right')\n",
    "plt.ylabel(\"score\", fontsize=25, loc='top')\n",
    "# plt.ylim([-50, 50])\n",
    "plt.colorbar()\n",
    "plt.show()"
   ]
  },
  {
   "cell_type": "code",
   "execution_count": null,
   "metadata": {},
   "outputs": [],
   "source": []
  },
  {
   "cell_type": "code",
   "execution_count": null,
   "metadata": {},
   "outputs": [],
   "source": []
  },
  {
   "cell_type": "code",
   "execution_count": null,
   "metadata": {
    "scrolled": false
   },
   "outputs": [],
   "source": [
    "ME_sig = np.array(ME_sig)\n",
    "ME_sig_test = ME_sig[ME_sig<100]\n",
    "ME_dT_test = np.array(ME_dT)*0.001\n",
    "ME_dT_test = ME_dT_test[ME_sig<100]\n",
    "##### seperate range\n",
    "mm = []\n",
    "rr = 10\n",
    "for i in range(100, 1000, rr):\n",
    "#     print(i/100)\n",
    "    a = np.mean(ME_sig_test[(ME_dT_test< (i/100 + 0.10)) & (ME_dT_test>(i/100))])\n",
    "    mm.append(a)\n",
    "tt = np.array(list(range(100, 1000, rr)))/100\n",
    "plt.scatter(tt, mm)\n",
    "plt.ylim([-5,15])\n",
    "plt.xticks(fontsize = 15)\n",
    "plt.yticks(fontsize = 15)\n",
    "plt.xlabel(\"\\u03BCs\", fontsize=25, loc='right')\n",
    "plt.ylabel(\"score\", fontsize=25, loc='top')\n",
    "plt.show()"
   ]
  },
  {
   "cell_type": "code",
   "execution_count": null,
   "metadata": {},
   "outputs": [],
   "source": [
    "FN_sig = np.array(FN_sig)\n",
    "FN_sig_test = FN_sig[FN_sig>-100]\n",
    "FN_dT_test = np.array(FN_dT)*0.001\n",
    "FN_dT_test = FN_dT_test[FN_sig>-100]\n",
    "##### seperate range\n",
    "mm = []\n",
    "rr = 10\n",
    "for i in range(100, 10000, rr):\n",
    "#     print(i/100)\n",
    "    a = np.mean(FN_sig_test[(FN_dT_test< (i/100 + 0.10)) & (FN_dT_test>(i/100))])\n",
    "    mm.append(a)\n",
    "tt = np.array(list(range(100, 10000, rr)))/100\n",
    "plt.scatter(tt, mm)\n",
    "plt.ylim([-15,5])\n",
    "plt.xticks(fontsize = 15)\n",
    "plt.yticks(fontsize = 15)\n",
    "plt.xlabel(\"\\u03BCs\", fontsize=25, loc='right')\n",
    "plt.ylabel(\"score\", fontsize=25, loc='top')\n",
    "plt.show()"
   ]
  },
  {
   "cell_type": "code",
   "execution_count": null,
   "metadata": {
    "scrolled": false
   },
   "outputs": [],
   "source": [
    "plt.hist2d(np.array(FN_dT)[FN_sig>-100]*0.001,np.array(FN_sig)[FN_sig>-100],(50,50))\n",
    "plt.ylim([-20, 20])\n",
    "plt.show()"
   ]
  },
  {
   "cell_type": "code",
   "execution_count": null,
   "metadata": {
    "scrolled": false
   },
   "outputs": [],
   "source": [
    "\n",
    "plt.hist2d(np.array(ME_dT)[ME_sig<100]*0.001,np.array(ME_sig)[ME_sig<100],(50,50))\n",
    "plt.ylim([-20, 20])\n",
    "plt.show()"
   ]
  }
 ],
 "metadata": {
  "kernelspec": {
   "display_name": "Python 3",
   "language": "python",
   "name": "python3"
  },
  "language_info": {
   "codemirror_mode": {
    "name": "ipython",
    "version": 3
   },
   "file_extension": ".py",
   "mimetype": "text/x-python",
   "name": "python",
   "nbconvert_exporter": "python",
   "pygments_lexer": "ipython3",
   "version": "3.7.9"
  }
 },
 "nbformat": 4,
 "nbformat_minor": 4
}
